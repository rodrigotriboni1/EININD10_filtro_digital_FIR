{
  "cells": [
    {
      "cell_type": "markdown",
      "metadata": {
        "id": "LgTnX8IQyt4S",
        "tags": []
      },
      "source": [
        "# <center>Introdução ao Python e ao Jupyter Notebook </center>\n",
        "<hr>"
      ]
    },
    {
      "cell_type": "markdown",
      "metadata": {
        "id": "xdGC2NSuyt4e"
      },
      "source": [
        ":O Jupyter Notebook (Jupyter = Julia + Python + R) tem sido uma pedida bastante interessante. Ele funciona como páginas visíveis em browser que permitem a criação de texto, código executável em Python, R e Julia. Muito importante para quem deseja seguir no mundo da Ciência de Dados.\n",
        "\n",
        "O Google Colaboratory, carinhosamente chamado de Colab, é um serviço de nuvem gratuito hospedado pelo próprio Google para incentivar a pesquisa de Aprendizado de Máquina e Inteligência Artificial.\n",
        "\n",
        "Eles são ferramentas que permite que você misture código fonte (geralmente em python) e texto rico (geralmente em markdown) com imagens e o resultado desse código, uma técnica conhecida como: notebook (“caderno”, em português)."
      ]
    },
    {
      "cell_type": "markdown",
      "metadata": {
        "id": "oElzEkIXPwON",
        "jp-MarkdownHeadingCollapsed": true,
        "tags": []
      },
      "source": [
        "## 1) Instalando e Usando bibliotecas"
      ]
    },
    {
      "cell_type": "markdown",
      "metadata": {
        "id": "ibUrF9d5PwOP"
      },
      "source": [
        "### 1.1) Magic Commands\n",
        "\n",
        "De forma geral, quando desejamos instalar alguma biblioteca ou módulo em nossos projetos, utilizamos o pip, easy_install ou o próprio python setup.py install. Pode parecer bobagem, mas no ambiente não fica tão clara esta ação. Para você saber quais bibliotecas estão disponíveis para você no Jupyter, execute: !pip3 list (ou !pip list)."
      ]
    },
    {
      "cell_type": "code",
      "execution_count": null,
      "metadata": {
        "colab": {
          "base_uri": "https://localhost:8080/"
        },
        "id": "40DJyBXij2uc",
        "outputId": "9154ea4d-8244-4eef-e55a-98e51d8815d4"
      },
      "outputs": [
        {
          "ename": "",
          "evalue": "",
          "output_type": "error",
          "traceback": [
            "\u001b[1;31mThe kernel failed to start due to the missing module 'dartkernel'. Consider installing this module.\n",
            "\u001b[1;31mClick <a href='https://aka.ms/kernelFailuresMissingModule'>here</a> for more info."
          ]
        }
      ],
      "source": [
        "%pip list"
      ]
    },
    {
      "cell_type": "markdown",
      "metadata": {
        "id": "1Mb1TH7tj3UT"
      },
      "source": [
        "“O segredo” está no **!** que tambem pode ser **%** antes do comando.\n",
        "Então, como fazer isso? Simples, dentro de uma célula do próprio Jupyter, digite: !pip3 install MODULO_QUE_VOCÊ_DESEJA, e execute. Pronto. Caso não ocorra nenhum erro, sua biblioteca estará disponível para uso.\n",
        "Por exemplo para instalar a biblioteca **js2py** que permite executar codigos de javascript no python basta fazer:\n",
        "\n"
      ]
    },
    {
      "cell_type": "code",
      "execution_count": null,
      "metadata": {
        "colab": {
          "base_uri": "https://localhost:8080/"
        },
        "id": "4-bKdvBsPwOR",
        "outputId": "6cfd8b45-0c15-4de4-b386-d77ffafb24fe"
      },
      "outputs": [
        {
          "ename": "",
          "evalue": "",
          "output_type": "error",
          "traceback": [
            "\u001b[1;31mThe kernel failed to start due to the missing module 'dartkernel'. Consider installing this module.\n",
            "\u001b[1;31mClick <a href='https://aka.ms/kernelFailuresMissingModule'>here</a> for more info."
          ]
        }
      ],
      "source": [
        "%pip install js2py"
      ]
    },
    {
      "cell_type": "markdown",
      "metadata": {
        "id": "n5Kqij59PwOT"
      },
      "source": [
        "A opção **-q** faz com que não seja nada reportado no display mesmo que seja um erro. Execute a opção abaixo e verá a diferença com a execução acima:"
      ]
    },
    {
      "cell_type": "code",
      "execution_count": null,
      "metadata": {
        "id": "NCYZNzFOPwOU"
      },
      "outputs": [
        {
          "ename": "",
          "evalue": "",
          "output_type": "error",
          "traceback": [
            "\u001b[1;31mThe kernel failed to start due to the missing module 'dartkernel'. Consider installing this module.\n",
            "\u001b[1;31mClick <a href='https://aka.ms/kernelFailuresMissingModule'>here</a> for more info."
          ]
        }
      ],
      "source": [
        "%pip -q install js2py"
      ]
    },
    {
      "cell_type": "markdown",
      "metadata": {
        "id": "31Bq2RUNPwOV"
      },
      "source": [
        "Para importar um módulo utilizamos o import."
      ]
    },
    {
      "cell_type": "code",
      "execution_count": null,
      "metadata": {
        "colab": {
          "base_uri": "https://localhost:8080/"
        },
        "id": "ov690N2CPwOW",
        "outputId": "77eea379-20f4-4b37-d351-480c7818532b"
      },
      "outputs": [
        {
          "ename": "",
          "evalue": "",
          "output_type": "error",
          "traceback": [
            "\u001b[1;31mThe kernel failed to start due to the missing module 'dartkernel'. Consider installing this module.\n",
            "\u001b[1;31mClick <a href='https://aka.ms/kernelFailuresMissingModule'>here</a> for more info."
          ]
        }
      ],
      "source": [
        "import math\n",
        "print(math.sqrt(25))"
      ]
    },
    {
      "cell_type": "markdown",
      "metadata": {
        "id": "PfMKBBcnPwOX"
      },
      "source": [
        "O código acima importará todos os módulos de math, para importar apenas o necessário utilizamos from."
      ]
    },
    {
      "cell_type": "code",
      "execution_count": null,
      "metadata": {
        "colab": {
          "base_uri": "https://localhost:8080/"
        },
        "id": "UclCXuVGPwOX",
        "outputId": "6b2389b3-2752-4a1b-f7f3-13c1750b346f"
      },
      "outputs": [
        {
          "ename": "",
          "evalue": "",
          "output_type": "error",
          "traceback": [
            "\u001b[1;31mThe kernel failed to start due to the missing module 'dartkernel'. Consider installing this module.\n",
            "\u001b[1;31mClick <a href='https://aka.ms/kernelFailuresMissingModule'>here</a> for more info."
          ]
        }
      ],
      "source": [
        "from math import sqrt\n",
        "sqrt(25)"
      ]
    },
    {
      "cell_type": "markdown",
      "metadata": {
        "id": "GFJrDht6PwOY"
      },
      "source": [
        "Para diminuir a digitação, ou seja, não precisar usar a sintaxe nomedomodulo.func() sempre que for chamar uma funcão de um modulo, costuma-se importar todas as funções de math dessa forma:"
      ]
    },
    {
      "cell_type": "code",
      "execution_count": null,
      "metadata": {
        "id": "7GKPQph7PwOY"
      },
      "outputs": [
        {
          "ename": "",
          "evalue": "",
          "output_type": "error",
          "traceback": [
            "\u001b[1;31mThe kernel failed to start due to the missing module 'dartkernel'. Consider installing this module.\n",
            "\u001b[1;31mClick <a href='https://aka.ms/kernelFailuresMissingModule'>here</a> for more info."
          ]
        }
      ],
      "source": [
        "from math import *"
      ]
    },
    {
      "cell_type": "markdown",
      "metadata": {
        "id": "CUR-2Wy-PwOZ"
      },
      "source": [
        "Em geral, a prática do import * de um módulo ou pacote é desaprovada, pois dificulta a leitura do código.\n",
        "É possivel importar um modulo com um outro nome do seu nome original usando **as** como abaixo:"
      ]
    },
    {
      "cell_type": "code",
      "execution_count": null,
      "metadata": {
        "id": "HojH0aMsPwOZ"
      },
      "outputs": [
        {
          "ename": "",
          "evalue": "",
          "output_type": "error",
          "traceback": [
            "\u001b[1;31mThe kernel failed to start due to the missing module 'dartkernel'. Consider installing this module.\n",
            "\u001b[1;31mClick <a href='https://aka.ms/kernelFailuresMissingModule'>here</a> for more info."
          ]
        }
      ],
      "source": [
        "from math import sqrt as st\n",
        "print(st(25))"
      ]
    },
    {
      "cell_type": "code",
      "execution_count": null,
      "metadata": {
        "id": "Xaj-cFZbPwOa"
      },
      "outputs": [
        {
          "ename": "",
          "evalue": "",
          "output_type": "error",
          "traceback": [
            "\u001b[1;31mThe kernel failed to start due to the missing module 'dartkernel'. Consider installing this module.\n",
            "\u001b[1;31mClick <a href='https://aka.ms/kernelFailuresMissingModule'>here</a> for more info."
          ]
        }
      ],
      "source": [
        "import matplotlib.pyplot as plt"
      ]
    },
    {
      "cell_type": "markdown",
      "metadata": {
        "id": "unm9ZzwcPwOa",
        "jp-MarkdownHeadingCollapsed": true,
        "tags": []
      },
      "source": [
        "## 2) Interagindo com o usuário"
      ]
    },
    {
      "cell_type": "markdown",
      "metadata": {
        "id": "f6OIgmydPwOa"
      },
      "source": [
        "### 2.1) Saídas\n",
        "\n",
        "Saída simples válido para a versão 3 de Python."
      ]
    },
    {
      "cell_type": "code",
      "execution_count": null,
      "metadata": {
        "colab": {
          "base_uri": "https://localhost:8080/"
        },
        "id": "y5j2-vExyt4p",
        "outputId": "8241c5d0-cc87-4b5c-a81a-50dc1a0a1db2"
      },
      "outputs": [
        {
          "ename": "",
          "evalue": "",
          "output_type": "error",
          "traceback": [
            "\u001b[1;31mThe kernel failed to start due to the missing module 'dartkernel'. Consider installing this module.\n",
            "\u001b[1;31mClick <a href='https://aka.ms/kernelFailuresMissingModule'>here</a> for more info."
          ]
        }
      ],
      "source": [
        "print(\"Welcome to Python!\")"
      ]
    },
    {
      "cell_type": "code",
      "execution_count": null,
      "metadata": {
        "id": "7Dtm-rdqyt4s",
        "tags": []
      },
      "outputs": [
        {
          "ename": "",
          "evalue": "",
          "output_type": "error",
          "traceback": [
            "\u001b[1;31mThe kernel failed to start due to the missing module 'dartkernel'. Consider installing this module.\n",
            "\u001b[1;31mClick <a href='https://aka.ms/kernelFailuresMissingModule'>here</a> for more info."
          ]
        }
      ],
      "source": [
        "reais = None"
      ]
    },
    {
      "cell_type": "markdown",
      "metadata": {
        "id": "eqfxv82Zyt4u"
      },
      "source": [
        "Saída mais elaborada."
      ]
    },
    {
      "cell_type": "code",
      "execution_count": null,
      "metadata": {
        "colab": {
          "base_uri": "https://localhost:8080/"
        },
        "id": "ouJs-S1-yt4w",
        "outputId": "776962b7-0c98-4902-b7da-64cb054de129"
      },
      "outputs": [
        {
          "ename": "",
          "evalue": "",
          "output_type": "error",
          "traceback": [
            "\u001b[1;31mThe kernel failed to start due to the missing module 'dartkernel'. Consider installing this module.\n",
            "\u001b[1;31mClick <a href='https://aka.ms/kernelFailuresMissingModule'>here</a> for more info."
          ]
        }
      ],
      "source": [
        "string_1 = \"Engenharia Elétrica\"\n",
        "string_2 = \"Universidade Federal de Uberlândia\"\n",
        "print(\"Faculdade de %s da %s.\" % (string_1, string_2))"
      ]
    },
    {
      "cell_type": "markdown",
      "metadata": {
        "id": "mTvAkFGnyt4y"
      },
      "source": [
        "### 2.2) Entradas\n",
        "\n",
        "Uma forma de fazer a aquisição de dados pelo usuario é a função **input**."
      ]
    },
    {
      "cell_type": "code",
      "execution_count": null,
      "metadata": {
        "colab": {
          "base_uri": "https://localhost:8080/"
        },
        "id": "4T-nBCcYyt4z",
        "outputId": "974af742-7874-40a6-973b-eaaee39283f9"
      },
      "outputs": [
        {
          "ename": "",
          "evalue": "",
          "output_type": "error",
          "traceback": [
            "\u001b[1;31mThe kernel failed to start due to the missing module 'dartkernel'. Consider installing this module.\n",
            "\u001b[1;31mClick <a href='https://aka.ms/kernelFailuresMissingModule'>here</a> for more info."
          ]
        }
      ],
      "source": [
        "nome  = input(\"Qual é o seu name?\")\n",
        "idade = input(\"Qual a sua idade?\")\n",
        "cor = input(\"Qual a sua cor favorita?\")\n",
        "\n",
        "print(\"Então o seu nome é %s, você tem  %s anos de idade, \" \\\n",
        "\"e sua cor favorita é %s.\" % (nome, idade, cor) )"
      ]
    },
    {
      "cell_type": "markdown",
      "metadata": {
        "id": "ogPLQZO2yt4z"
      },
      "source": [
        "### 2.3) Endentação\n",
        "\n",
        "Python usa endentação como delimitação de bloco, portanto devemos endentar corretamente o código fonte.\n",
        "Abaixo vemos um código endentado de forma errada:"
      ]
    },
    {
      "cell_type": "code",
      "execution_count": null,
      "metadata": {
        "colab": {
          "base_uri": "https://localhost:8080/",
          "height": 131
        },
        "id": "pstdxbQ1yt40",
        "outputId": "560dde3c-61a6-4d84-abd2-5662567343a8"
      },
      "outputs": [
        {
          "ename": "",
          "evalue": "",
          "output_type": "error",
          "traceback": [
            "\u001b[1;31mThe kernel failed to start due to the missing module 'dartkernel'. Consider installing this module.\n",
            "\u001b[1;31mClick <a href='https://aka.ms/kernelFailuresMissingModule'>here</a> for more info."
          ]
        }
      ],
      "source": [
        "def spam():\n",
        "eggs = 12\n",
        "return eggs\n",
        "\n",
        "print(spam())"
      ]
    },
    {
      "cell_type": "markdown",
      "metadata": {
        "id": "IjvBqfVryt41"
      },
      "source": [
        "Abaixo, vemos o mesmo código corrigido:"
      ]
    },
    {
      "cell_type": "code",
      "execution_count": null,
      "metadata": {
        "colab": {
          "base_uri": "https://localhost:8080/"
        },
        "id": "AD-ADMttyt42",
        "outputId": "8196f184-7c96-4d9b-f53e-09abc6bb5a97"
      },
      "outputs": [
        {
          "ename": "",
          "evalue": "",
          "output_type": "error",
          "traceback": [
            "\u001b[1;31mThe kernel failed to start due to the missing module 'dartkernel'. Consider installing this module.\n",
            "\u001b[1;31mClick <a href='https://aka.ms/kernelFailuresMissingModule'>here</a> for more info."
          ]
        }
      ],
      "source": [
        "def spam():\n",
        "  eggs = 12\n",
        "  return eggs\n",
        "\n",
        "print(spam())"
      ]
    },
    {
      "cell_type": "markdown",
      "metadata": {
        "id": "w6qg2SKayt42",
        "tags": []
      },
      "source": [
        "### 2.4) Blocos\n",
        "\n",
        "Como visto acima, Python usa endentação como delimitação de bloco.\n",
        "\n",
        "Abaixo vemos os comandos que aceitam blocos:\n",
        "\n",
        "- if/elif/else\n",
        "- for/else\n",
        "- while/else\n",
        "- def\n",
        "- try/except /finally/else\n",
        "- class\n",
        "- with\n",
        "\n",
        "Se o bloco tem apenas um comando, pode-se escrever tudo em uma linha:"
      ]
    },
    {
      "cell_type": "code",
      "execution_count": null,
      "metadata": {
        "colab": {
          "base_uri": "https://localhost:8080/"
        },
        "id": "k5YQkdf6yt5E",
        "outputId": "743fa632-9317-45a5-96cf-9b125b3e147e"
      },
      "outputs": [
        {
          "ename": "",
          "evalue": "",
          "output_type": "error",
          "traceback": [
            "\u001b[1;31mThe kernel failed to start due to the missing module 'dartkernel'. Consider installing this module.\n",
            "\u001b[1;31mClick <a href='https://aka.ms/kernelFailuresMissingModule'>here</a> for more info."
          ]
        }
      ],
      "source": [
        "n=-10\n",
        "if n < 0: print('Valor inválido')"
      ]
    },
    {
      "cell_type": "markdown",
      "metadata": {
        "id": "He7YPtRkyt5F"
      },
      "source": [
        "### 2.5) Comentários"
      ]
    },
    {
      "cell_type": "markdown",
      "metadata": {
        "id": "XxhedC-dyt5O"
      },
      "source": [
        "Em linha."
      ]
    },
    {
      "cell_type": "code",
      "execution_count": null,
      "metadata": {
        "colab": {
          "base_uri": "https://localhost:8080/",
          "height": 35
        },
        "id": "amtCkM28PwOg",
        "outputId": "93d6432d-e6a9-4a01-ab90-0f1ca8d1c26a"
      },
      "outputs": [
        {
          "ename": "",
          "evalue": "",
          "output_type": "error",
          "traceback": [
            "\u001b[1;31mThe kernel failed to start due to the missing module 'dartkernel'. Consider installing this module.\n",
            "\u001b[1;31mClick <a href='https://aka.ms/kernelFailuresMissingModule'>here</a> for more info."
          ]
        }
      ],
      "source": [
        "# comentário de linha\n",
        "\"\"\" Esse é de bloco mas está em uma linha só \"\"\""
      ]
    },
    {
      "cell_type": "markdown",
      "metadata": {
        "id": "DJZLZ0FUPwOg"
      },
      "source": [
        "Em bloco."
      ]
    },
    {
      "cell_type": "code",
      "execution_count": null,
      "metadata": {
        "id": "HrOmJ0E2PwOg"
      },
      "outputs": [
        {
          "ename": "",
          "evalue": "",
          "output_type": "error",
          "traceback": [
            "\u001b[1;31mThe kernel failed to start due to the missing module 'dartkernel'. Consider installing this module.\n",
            "\u001b[1;31mClick <a href='https://aka.ms/kernelFailuresMissingModule'>here</a> for more info."
          ]
        }
      ],
      "source": [
        "\"\"\"\n",
        "comentários\n",
        "comentários\n",
        "comentários\n",
        "\"\"\""
      ]
    },
    {
      "cell_type": "markdown",
      "metadata": {
        "id": "2mY1bIfBPwOh"
      },
      "source": [
        "Aspas simples também funciona."
      ]
    },
    {
      "cell_type": "code",
      "execution_count": null,
      "metadata": {
        "id": "iFP5nSDyPwOh"
      },
      "outputs": [
        {
          "ename": "",
          "evalue": "",
          "output_type": "error",
          "traceback": [
            "\u001b[1;31mThe kernel failed to start due to the missing module 'dartkernel'. Consider installing this module.\n",
            "\u001b[1;31mClick <a href='https://aka.ms/kernelFailuresMissingModule'>here</a> for more info."
          ]
        }
      ],
      "source": [
        "'''\n",
        "this is\n",
        "a multi-line\n",
        "comment, i am handy for commenting out whole\n",
        "chunks of code very fast\n",
        "'''"
      ]
    },
    {
      "cell_type": "markdown",
      "metadata": {
        "id": "oDQtl2UTPwOh"
      },
      "source": [
        "### 2.6) Números\n",
        "\n",
        "Python possui + - * /, nem precisava falar!.\n",
        "Mas talvez você se pergunte como calcular uma potência."
      ]
    },
    {
      "cell_type": "code",
      "execution_count": null,
      "metadata": {
        "colab": {
          "base_uri": "https://localhost:8080/"
        },
        "id": "rxlzciLSPwOi",
        "outputId": "b0a14f60-38f0-45d8-8502-1ebbeee6268d"
      },
      "outputs": [
        {
          "ename": "",
          "evalue": "",
          "output_type": "error",
          "traceback": [
            "\u001b[1;31mThe kernel failed to start due to the missing module 'dartkernel'. Consider installing this module.\n",
            "\u001b[1;31mClick <a href='https://aka.ms/kernelFailuresMissingModule'>here</a> for more info."
          ]
        }
      ],
      "source": [
        "print(10 ** 2)"
      ]
    },
    {
      "cell_type": "markdown",
      "metadata": {
        "id": "Vs4vbEFXPwOi"
      },
      "source": [
        "Ou o resto da divisão com o operador módulo %."
      ]
    },
    {
      "cell_type": "code",
      "execution_count": null,
      "metadata": {
        "id": "GADmu3H7PwOi"
      },
      "outputs": [
        {
          "ename": "",
          "evalue": "",
          "output_type": "error",
          "traceback": [
            "\u001b[1;31mThe kernel failed to start due to the missing module 'dartkernel'. Consider installing this module.\n",
            "\u001b[1;31mClick <a href='https://aka.ms/kernelFailuresMissingModule'>here</a> for more info."
          ]
        }
      ],
      "source": [
        "print(3 % 2)\n",
        "print(5 % 2)"
      ]
    },
    {
      "cell_type": "markdown",
      "metadata": {
        "id": "K3mVQpWnPwOi"
      },
      "source": [
        "Veja também algumas funções matemáticas:"
      ]
    },
    {
      "cell_type": "code",
      "execution_count": null,
      "metadata": {
        "id": "DZGQVDFCPwOi"
      },
      "outputs": [
        {
          "ename": "",
          "evalue": "",
          "output_type": "error",
          "traceback": [
            "\u001b[1;31mThe kernel failed to start due to the missing module 'dartkernel'. Consider installing this module.\n",
            "\u001b[1;31mClick <a href='https://aka.ms/kernelFailuresMissingModule'>here</a> for more info."
          ]
        }
      ],
      "source": [
        "print(max(5, 6, 7))\n",
        "print(min(5, 6, 7))\n",
        "print(abs(-1))"
      ]
    },
    {
      "cell_type": "markdown",
      "metadata": {
        "id": "7mueOGBiPwOj"
      },
      "source": [
        "Para trabalhar com números randômicos será preciso importar o módulo random."
      ]
    },
    {
      "cell_type": "code",
      "execution_count": null,
      "metadata": {
        "id": "rZAN89-WPwOj"
      },
      "outputs": [
        {
          "ename": "",
          "evalue": "",
          "output_type": "error",
          "traceback": [
            "\u001b[1;31mThe kernel failed to start due to the missing module 'dartkernel'. Consider installing this module.\n",
            "\u001b[1;31mClick <a href='https://aka.ms/kernelFailuresMissingModule'>here</a> for more info."
          ]
        }
      ],
      "source": [
        "import random\n",
        "random.randint(1, 10)"
      ]
    },
    {
      "cell_type": "markdown",
      "metadata": {
        "id": "_tAxgJq-PwOj"
      },
      "source": [
        "O código acima irá gerar números randômicos entre 1 e 10 (incluindo o 1 e o 10)."
      ]
    },
    {
      "cell_type": "markdown",
      "metadata": {
        "id": "GPmim3x_yt4g",
        "jp-MarkdownHeadingCollapsed": true,
        "tags": []
      },
      "source": [
        "## 3) Variáveis\n",
        "<hr>"
      ]
    },
    {
      "cell_type": "markdown",
      "metadata": {
        "id": "oVzekQPrPwOk"
      },
      "source": [
        "### 3.1) Introdução\n",
        "\n",
        "Uma variável não pode ser utilizada em uma expressão sem ter sido inicializada. Não existe “criação automática” de variáveis. Exemplo de atribuição:"
      ]
    },
    {
      "cell_type": "code",
      "execution_count": null,
      "metadata": {
        "colab": {
          "base_uri": "https://localhost:8080/",
          "height": 166
        },
        "id": "jN6LgJy_yt4m",
        "outputId": "c015322c-3ec8-4933-99cb-c9a209df1a42"
      },
      "outputs": [
        {
          "ename": "",
          "evalue": "",
          "output_type": "error",
          "traceback": [
            "\u001b[1;31mThe kernel failed to start due to the missing module 'dartkernel'. Consider installing this module.\n",
            "\u001b[1;31mClick <a href='https://aka.ms/kernelFailuresMissingModule'>here</a> for more info."
          ]
        }
      ],
      "source": [
        "velocidade = comprimentoOnda * frequencia"
      ]
    },
    {
      "cell_type": "markdown",
      "metadata": {
        "id": "4eSKTaHHyt4n"
      },
      "source": [
        "As variáveis **comprimentoOnda** e **frequencia** devem ser inicializadas, se não o erro name 'comprimentoOnda' is not defined será exibido. Também podemos inicializar mais de uma variável dessa forma…"
      ]
    },
    {
      "cell_type": "code",
      "execution_count": null,
      "metadata": {
        "colab": {
          "base_uri": "https://localhost:8080/"
        },
        "id": "JntfWPgNPwOk",
        "outputId": "e2e66c77-5997-421c-c287-8e3d49c96fc6"
      },
      "outputs": [
        {
          "ename": "",
          "evalue": "",
          "output_type": "error",
          "traceback": [
            "\u001b[1;31mThe kernel failed to start due to the missing module 'dartkernel'. Consider installing this module.\n",
            "\u001b[1;31mClick <a href='https://aka.ms/kernelFailuresMissingModule'>here</a> for more info."
          ]
        }
      ],
      "source": [
        "a, b = 10, 20\n",
        "print(a)\n",
        "print(b)"
      ]
    },
    {
      "cell_type": "markdown",
      "metadata": {
        "id": "DAH7VnFvPwOl"
      },
      "source": [
        "Python é uma linguagem dinamicamente tipada, o que significa que não é necessário declarar o tipo de variável ou fazer casting (mudar o tipo de variável), pois o Interpretador se encarrega disso para nós!\n",
        "Isso significa também que o tipo da variável poder variar durante a execução do programa.\n",
        "Os tipos de dados padrão do Python são:\n",
        "\n",
        "|Descrição:| Tipos|\n",
        "|---:|:---|\n",
        "|Números:|\tint, long, float, complex|\n",
        "|Strings:|\tstr e unicode|\n",
        "|Listas e tuplas:|\tlist, tuple|\n",
        "|Dicionários:|\tdict|\n",
        "|Arquivos:|\tfile|\n",
        "|Booleanos:|\tbool (True, False)|\n",
        "|Conjuntos:|\tset, frozenset|\n",
        "|None:|\t (null)|\n",
        "\n",
        "A função type() mostra o tipo do dado, veja alguns exemplos"
      ]
    },
    {
      "cell_type": "code",
      "execution_count": null,
      "metadata": {
        "colab": {
          "base_uri": "https://localhost:8080/"
        },
        "id": "ukokueKZPwOl",
        "outputId": "720249b5-8caf-4c9d-9a33-094818ed45e7"
      },
      "outputs": [
        {
          "ename": "",
          "evalue": "",
          "output_type": "error",
          "traceback": [
            "\u001b[1;31mThe kernel failed to start due to the missing module 'dartkernel'. Consider installing this module.\n",
            "\u001b[1;31mClick <a href='https://aka.ms/kernelFailuresMissingModule'>here</a> for more info."
          ]
        }
      ],
      "source": [
        "print(type(\"text\"))        # <class 'str'>\n",
        "print(type(1))             # <class 'int'>\n",
        "print(type(0.99))          # <class 'float'>"
      ]
    },
    {
      "cell_type": "markdown",
      "metadata": {
        "id": "ggvccCWFPwOl"
      },
      "source": [
        "### 3.2) Tipo Inteiro (int)\n",
        "\n",
        "O tipo inteiro é um tipo composto por caracteres numéricos (algarismos) inteiros.\n",
        "É um tipo usado para um número que pode ser escrito sem um componente decimal, podendo ter ou não sinal, isto é: ser positivo ou negativo.\n",
        "Por exemplo, 21, 4, 0, e −2048 são números inteiros, enquanto 9.75, 1/2, 1.5 não são.\n",
        "\n",
        "Exemplos:"
      ]
    },
    {
      "cell_type": "code",
      "execution_count": null,
      "metadata": {
        "id": "hvNKkj3IPwOl"
      },
      "outputs": [
        {
          "ename": "",
          "evalue": "",
          "output_type": "error",
          "traceback": [
            "\u001b[1;31mThe kernel failed to start due to the missing module 'dartkernel'. Consider installing this module.\n",
            "\u001b[1;31mClick <a href='https://aka.ms/kernelFailuresMissingModule'>here</a> for more info."
          ]
        }
      ],
      "source": [
        "idade = 18\n",
        "ano = 2002\n",
        "\n",
        "print(type(idade))\n",
        "print(type(ano))"
      ]
    },
    {
      "cell_type": "markdown",
      "metadata": {
        "id": "FsP3PqSpPwOm"
      },
      "source": [
        "### 3.3) Ponto Flutuante ou Decimal (float)\n",
        "\n",
        "É um tipo composto por caracteres numéricos (algarismo) decimais.\n",
        "O famoso ponto flutuante é um tipo usado para números racionais (números que podem ser representados por uma fração) informalmente conhecido como “número quebrado”.\n",
        "\n",
        "Exemplos:"
      ]
    },
    {
      "cell_type": "code",
      "execution_count": null,
      "metadata": {
        "colab": {
          "base_uri": "https://localhost:8080/"
        },
        "id": "_BR209CdPwOm",
        "outputId": "890ad79c-aa7c-4b2a-ca4e-d91dfce4e759"
      },
      "outputs": [
        {
          "ename": "",
          "evalue": "",
          "output_type": "error",
          "traceback": [
            "\u001b[1;31mThe kernel failed to start due to the missing module 'dartkernel'. Consider installing this module.\n",
            "\u001b[1;31mClick <a href='https://aka.ms/kernelFailuresMissingModule'>here</a> for more info."
          ]
        }
      ],
      "source": [
        "altura = 1.80\n",
        "peso = 73.55\n",
        "\n",
        "print(type(peso))\n",
        "print(type(altura))"
      ]
    },
    {
      "cell_type": "markdown",
      "metadata": {
        "id": "0S1dFXMdPwOm",
        "tags": []
      },
      "source": [
        "### 3.4) String (str)\n",
        "\n",
        "É um conjunto de caracteres dispostos numa determinada ordem, geralmente utilizada para representar palavras, frases ou textos.\n",
        "\n",
        "Exemplos:"
      ]
    },
    {
      "cell_type": "code",
      "execution_count": null,
      "metadata": {
        "id": "YuaSKdvAPwOn"
      },
      "outputs": [
        {
          "ename": "",
          "evalue": "",
          "output_type": "error",
          "traceback": [
            "\u001b[1;31mThe kernel failed to start due to the missing module 'dartkernel'. Consider installing this module.\n",
            "\u001b[1;31mClick <a href='https://aka.ms/kernelFailuresMissingModule'>here</a> for more info."
          ]
        }
      ],
      "source": [
        "nome = 'Guilherme'\n",
        "profissao = 'Engenheiro de Software'\n",
        "\n",
        "print(type(profissao))\n",
        "print(type(nome))"
      ]
    },
    {
      "cell_type": "markdown",
      "metadata": {
        "id": "SiHRF4NaPwOn"
      },
      "source": [
        "Concatenamos strings com o sinal + ."
      ]
    },
    {
      "cell_type": "code",
      "execution_count": null,
      "metadata": {
        "id": "_hBcjb-RPwOn"
      },
      "outputs": [
        {
          "ename": "",
          "evalue": "",
          "output_type": "error",
          "traceback": [
            "\u001b[1;31mThe kernel failed to start due to the missing module 'dartkernel'. Consider installing this module.\n",
            "\u001b[1;31mClick <a href='https://aka.ms/kernelFailuresMissingModule'>here</a> for more info."
          ]
        }
      ],
      "source": [
        "\"Spam \" + \"and\" + \" eggs\""
      ]
    },
    {
      "cell_type": "markdown",
      "metadata": {
        "id": "7r83BghmPwOn"
      },
      "source": [
        "Quando concatenamos com um número, precisamos fazer a conversão."
      ]
    },
    {
      "cell_type": "code",
      "execution_count": null,
      "metadata": {
        "id": "KumTrA7OPwOn"
      },
      "outputs": [
        {
          "ename": "",
          "evalue": "",
          "output_type": "error",
          "traceback": [
            "\u001b[1;31mThe kernel failed to start due to the missing module 'dartkernel'. Consider installing this module.\n",
            "\u001b[1;31mClick <a href='https://aka.ms/kernelFailuresMissingModule'>here</a> for more info."
          ]
        }
      ],
      "source": [
        "\"The value of pi is around \" + str(3.14)"
      ]
    },
    {
      "cell_type": "markdown",
      "metadata": {
        "id": "vg80BNcsPwOo"
      },
      "source": [
        "Escapamos (scape) caracters com o sinal \\"
      ]
    },
    {
      "cell_type": "code",
      "execution_count": null,
      "metadata": {
        "id": "54BJ_XWSPwOo"
      },
      "outputs": [
        {
          "ename": "",
          "evalue": "",
          "output_type": "error",
          "traceback": [
            "\u001b[1;31mThe kernel failed to start due to the missing module 'dartkernel'. Consider installing this module.\n",
            "\u001b[1;31mClick <a href='https://aka.ms/kernelFailuresMissingModule'>here</a> for more info."
          ]
        }
      ],
      "source": [
        "'There's a snake in my boot!'  # errado"
      ]
    },
    {
      "cell_type": "code",
      "execution_count": null,
      "metadata": {
        "id": "Dkf3JXCQPwOo"
      },
      "outputs": [
        {
          "ename": "",
          "evalue": "",
          "output_type": "error",
          "traceback": [
            "\u001b[1;31mThe kernel failed to start due to the missing module 'dartkernel'. Consider installing this module.\n",
            "\u001b[1;31mClick <a href='https://aka.ms/kernelFailuresMissingModule'>here</a> for more info."
          ]
        }
      ],
      "source": [
        "'There\\'s a snake in my boot!' # correto"
      ]
    },
    {
      "cell_type": "markdown",
      "metadata": {
        "id": "jz6Al0bkPwOo"
      },
      "source": [
        "Métodos básicos de string\n",
        "\n",
        "|função|\tdescrição|\n",
        "|---:|:---|\n",
        "|len()|\tmostra o tamanho da string\n",
        "|lower()|\tcaixa baixa\n",
        "|upper()|\tcaixa alta\n",
        "|str()|\tconverte em string\n",
        "|isalpha()|\tretorna False se a string contiver algum caracter que não seja letras\n",
        "\n",
        "\n",
        "Exemplo, \"flavio.upper()\" equivale a FLAVIO."
      ]
    },
    {
      "cell_type": "markdown",
      "metadata": {
        "id": "A0NhPt3RPwOo"
      },
      "source": [
        "Acessando pelo index\n",
        "\n",
        "+---+---+---+---+---+---+\n",
        "| p | y | t | h | o | n |\n",
        "+---+---+---+---+---+---+\n",
        "  0   1   2   3   4   5"
      ]
    },
    {
      "cell_type": "code",
      "execution_count": null,
      "metadata": {
        "colab": {
          "base_uri": "https://localhost:8080/"
        },
        "id": "SPqJdK6NPwOp",
        "outputId": "21368ca0-8d3b-4b5a-df1a-dc35bb34350b"
      },
      "outputs": [
        {
          "ename": "",
          "evalue": "",
          "output_type": "error",
          "traceback": [
            "\u001b[1;31mThe kernel failed to start due to the missing module 'dartkernel'. Consider installing this module.\n",
            "\u001b[1;31mClick <a href='https://aka.ms/kernelFailuresMissingModule'>here</a> for more info."
          ]
        }
      ],
      "source": [
        "print(\"python\"[0]) # 'p'\n",
        "print(\"python\"[1]) # 'y'\n",
        "print(\"python\"[2]) # 't'\n",
        "print(\"python\"[3]) # 'h'\n",
        "print(\"python\"[4]) # 'o'\n",
        "print(\"python\"[5]) # 'n'"
      ]
    },
    {
      "cell_type": "markdown",
      "metadata": {
        "id": "FT65un6sPwOp"
      },
      "source": [
        "Percorrendo strings (string lopping)"
      ]
    },
    {
      "cell_type": "code",
      "execution_count": null,
      "metadata": {
        "colab": {
          "base_uri": "https://localhost:8080/"
        },
        "id": "OJ1mK7nbPwOp",
        "outputId": "49ddaedb-d047-4558-acd9-d02f4f848ae3"
      },
      "outputs": [
        {
          "ename": "",
          "evalue": "",
          "output_type": "error",
          "traceback": [
            "\u001b[1;31mThe kernel failed to start due to the missing module 'dartkernel'. Consider installing this module.\n",
            "\u001b[1;31mClick <a href='https://aka.ms/kernelFailuresMissingModule'>here</a> for more info."
          ]
        }
      ],
      "source": [
        "for letter in \"python\":\n",
        "    print(letter)"
      ]
    },
    {
      "cell_type": "markdown",
      "metadata": {
        "id": "swFrQtLrPwOp"
      },
      "source": [
        "### 3.5) Complexo (complex)\n",
        "\n",
        "Tipo de dado usado para representar números complexos (isso mesmo, aquilo que provavelmente estudou no terceiro ano do ensino médio).\n",
        "Esse tipo normalmente é usado em cálculos geométricos e científicos.\n",
        "Um tipo complexo contem duas partes: a parte **real** e a parte **imaginária**, sendo que a parte imaginária contem um **j** no sufixo.\n",
        "A função complex(real[, imag]) do Python possibilita a criação de números imaginários passando como argumento: real, que é a parte Real do número complexo e o argumento opcional imag, representando a parte imaginária do número complexo.\n",
        "\n",
        "Exemplos:"
      ]
    },
    {
      "cell_type": "code",
      "execution_count": null,
      "metadata": {
        "id": "u2wp1-l0PwOq"
      },
      "outputs": [
        {
          "ename": "",
          "evalue": "",
          "output_type": "error",
          "traceback": [
            "\u001b[1;31mThe kernel failed to start due to the missing module 'dartkernel'. Consider installing this module.\n",
            "\u001b[1;31mClick <a href='https://aka.ms/kernelFailuresMissingModule'>here</a> for more info."
          ]
        }
      ],
      "source": [
        "a = 5+2j\n",
        "b = 20+6j\n",
        "\n",
        "print(type(a))\n",
        "print(type(b))\n",
        "print(complex(2, 5))"
      ]
    },
    {
      "cell_type": "markdown",
      "metadata": {
        "id": "EuUJi02hPwOq"
      },
      "source": [
        "### 3.6) Boolean (bool)\n",
        "\n",
        "Tipo de dado lógico que pode assumir apenas dois valores: falso ou verdadeiro (False ou True em Python).\n",
        "Na lógica computacional, podem ser considerados como 0 ou 1.\n",
        "\n",
        "Exemplos:"
      ]
    },
    {
      "cell_type": "code",
      "execution_count": null,
      "metadata": {
        "id": "EH7MFR60PwOr"
      },
      "outputs": [
        {
          "ename": "",
          "evalue": "",
          "output_type": "error",
          "traceback": [
            "\u001b[1;31mThe kernel failed to start due to the missing module 'dartkernel'. Consider installing this module.\n",
            "\u001b[1;31mClick <a href='https://aka.ms/kernelFailuresMissingModule'>here</a> for more info."
          ]
        }
      ],
      "source": [
        "fim_de_semana = True\n",
        "feriado = False\n",
        "\n",
        "print(type(fim_de_semana))\n",
        "print(type(feriado))"
      ]
    },
    {
      "cell_type": "markdown",
      "metadata": {
        "id": "fKkaVM7cPwOr"
      },
      "source": [
        "### 3.7) Listas (list)\n",
        "\n",
        "Tipo de dado muito importante e que é **muito** utilizado no dia a dia do desenvolvedor Python!\n",
        "Listas agrupam um conjunto de elementos variados, podendo conter: inteiros, floats, strings, outras listas e outros tipos.\n",
        "Elas são definidas utilizando-se colchetes para delimitar a lista e vírgulas para separar os elementos, veja alguns exemplo abaixo:"
      ]
    },
    {
      "cell_type": "code",
      "execution_count": null,
      "metadata": {
        "id": "dZmkej9lPwOr"
      },
      "outputs": [
        {
          "ename": "",
          "evalue": "",
          "output_type": "error",
          "traceback": [
            "\u001b[1;31mThe kernel failed to start due to the missing module 'dartkernel'. Consider installing this module.\n",
            "\u001b[1;31mClick <a href='https://aka.ms/kernelFailuresMissingModule'>here</a> for more info."
          ]
        }
      ],
      "source": [
        "alunos = ['Amanda', 'Ana', 'Bruno', 'João']\n",
        "notas = [10, 8.5, 7.8, 8.0]\n",
        "\n",
        "print(type(alunos))\n",
        "print(type(notas))"
      ]
    },
    {
      "cell_type": "markdown",
      "metadata": {
        "id": "l76qG2asPwOr"
      },
      "source": [
        "Uma lista pode ter seu valor mudado e ela funciona da seguinte forma:"
      ]
    },
    {
      "cell_type": "code",
      "execution_count": null,
      "metadata": {
        "colab": {
          "base_uri": "https://localhost:8080/"
        },
        "id": "wbXpQKc1PwOs",
        "outputId": "0c051e0e-2592-4de7-b623-d3eeb0d01a66"
      },
      "outputs": [
        {
          "ename": "",
          "evalue": "",
          "output_type": "error",
          "traceback": [
            "\u001b[1;31mThe kernel failed to start due to the missing module 'dartkernel'. Consider installing this module.\n",
            "\u001b[1;31mClick <a href='https://aka.ms/kernelFailuresMissingModule'>here</a> for more info."
          ]
        }
      ],
      "source": [
        "animals = [\"pangolin\", \"cassowary\", \"sloth\", \"dog\"];\n",
        "print(animals[0][0])   # 'pangolin'\n",
        "print(animals[1])   # 'cassowary'\n",
        "print(animals[2])   # 'sloth'\n",
        "print(animals[3])   # 'dog'"
      ]
    },
    {
      "cell_type": "markdown",
      "metadata": {
        "id": "dT48y5mdPwOs"
      },
      "source": [
        "o acessar um índice inexistente recebemos um erro."
      ]
    },
    {
      "cell_type": "code",
      "execution_count": null,
      "metadata": {
        "colab": {
          "base_uri": "https://localhost:8080/",
          "height": 166
        },
        "id": "Nuw2N9FZPwOs",
        "outputId": "56800610-119d-45c3-c2ae-4c496765dc64"
      },
      "outputs": [
        {
          "ename": "",
          "evalue": "",
          "output_type": "error",
          "traceback": [
            "\u001b[1;31mThe kernel failed to start due to the missing module 'dartkernel'. Consider installing this module.\n",
            "\u001b[1;31mClick <a href='https://aka.ms/kernelFailuresMissingModule'>here</a> for more info."
          ]
        }
      ],
      "source": [
        "animals[4]"
      ]
    },
    {
      "cell_type": "markdown",
      "metadata": {
        "id": "aeU2HKL7PwOs"
      },
      "source": [
        "A função len() retorna o tamanho da lista."
      ]
    },
    {
      "cell_type": "code",
      "execution_count": null,
      "metadata": {
        "colab": {
          "base_uri": "https://localhost:8080/"
        },
        "id": "_zjz2I3KPwOs",
        "outputId": "ea261d84-7692-48f8-9ad6-9544d2147f02"
      },
      "outputs": [
        {
          "ename": "",
          "evalue": "",
          "output_type": "error",
          "traceback": [
            "\u001b[1;31mThe kernel failed to start due to the missing module 'dartkernel'. Consider installing this module.\n",
            "\u001b[1;31mClick <a href='https://aka.ms/kernelFailuresMissingModule'>here</a> for more info."
          ]
        }
      ],
      "source": [
        "len(animals) # 4"
      ]
    },
    {
      "cell_type": "markdown",
      "metadata": {
        "id": "ACrEyfX1PwOt"
      },
      "source": [
        "### 3.8) Tuplas (tuple)\n",
        "\n",
        "Assim como Lista, Tupla é um tipo que agrupa um conjunto de elementos.\n",
        "Porém sua forma de definição é diferente: utilizamos parênteses e também separado por vírgula.\n",
        "A diferença para Lista é que Tuplas são **imutáveis**, ou seja, após sua definição, Tuplas **não podem ser modificadas**.\n",
        "Vamos ver alguns exemplos:"
      ]
    },
    {
      "cell_type": "code",
      "execution_count": null,
      "metadata": {
        "colab": {
          "base_uri": "https://localhost:8080/"
        },
        "id": "l8ciRr2ZPwOt",
        "outputId": "68dfa3d2-d00e-4a83-bab6-78901fc99280"
      },
      "outputs": [
        {
          "ename": "",
          "evalue": "",
          "output_type": "error",
          "traceback": [
            "\u001b[1;31mThe kernel failed to start due to the missing module 'dartkernel'. Consider installing this module.\n",
            "\u001b[1;31mClick <a href='https://aka.ms/kernelFailuresMissingModule'>here</a> for more info."
          ]
        }
      ],
      "source": [
        "valores = (90, 79, 54, 32, 21)\n",
        "pontos = (100, 94.05, 86.8, 62)\n",
        "\n",
        "print(type(valores))\n",
        "print(type(pontos))"
      ]
    },
    {
      "cell_type": "markdown",
      "metadata": {
        "id": "G94HQujyPwOt"
      },
      "source": [
        "Caso haja uma tentativa de alterar os itens de uma tupla após sua definição, como no código a seguir, o erro do tipo **TypeError** será lançado pelo interpretador do Python:"
      ]
    },
    {
      "cell_type": "code",
      "execution_count": null,
      "metadata": {
        "colab": {
          "base_uri": "https://localhost:8080/",
          "height": 183
        },
        "id": "e6vqO5-mPwOt",
        "outputId": "b3224c7e-762f-4bb1-baa8-972c1b91b82b"
      },
      "outputs": [
        {
          "ename": "",
          "evalue": "",
          "output_type": "error",
          "traceback": [
            "\u001b[1;31mThe kernel failed to start due to the missing module 'dartkernel'. Consider installing this module.\n",
            "\u001b[1;31mClick <a href='https://aka.ms/kernelFailuresMissingModule'>here</a> for more info."
          ]
        }
      ],
      "source": [
        "tuple = (0, 1, 2, 3)\n",
        "tuple[0] = 4"
      ]
    },
    {
      "cell_type": "code",
      "execution_count": null,
      "metadata": {
        "colab": {
          "base_uri": "https://localhost:8080/",
          "height": 131
        },
        "id": "Ck38cGNDPwOu",
        "outputId": "1f2e3436-6360-4980-9d44-25393d3f779d"
      },
      "outputs": [
        {
          "ename": "",
          "evalue": "",
          "output_type": "error",
          "traceback": [
            "\u001b[1;31mThe kernel failed to start due to the missing module 'dartkernel'. Consider installing this module.\n",
            "\u001b[1;31mClick <a href='https://aka.ms/kernelFailuresMissingModule'>here</a> for more info."
          ]
        }
      ],
      "source": [
        "Tipos diferente ponde ser colocados em um tupla."
      ]
    },
    {
      "cell_type": "code",
      "execution_count": null,
      "metadata": {
        "colab": {
          "base_uri": "https://localhost:8080/"
        },
        "id": "W_YYHmPHPwOu",
        "outputId": "d4e7078d-27e1-4503-f73e-8f5ade72583d"
      },
      "outputs": [
        {
          "ename": "",
          "evalue": "",
          "output_type": "error",
          "traceback": [
            "\u001b[1;31mThe kernel failed to start due to the missing module 'dartkernel'. Consider installing this module.\n",
            "\u001b[1;31mClick <a href='https://aka.ms/kernelFailuresMissingModule'>here</a> for more info."
          ]
        }
      ],
      "source": [
        "tuple = ((0, 'teste'),(1,'func'),(2,'error'))\n",
        "print(tuple[1])\n",
        "print(tuple[1][0])\n",
        "print(tuple[1][1])"
      ]
    },
    {
      "cell_type": "markdown",
      "metadata": {
        "id": "oHpzOuTuPwOu"
      },
      "source": [
        "### 3.9) Dicionários (dict)\n",
        "\n",
        "Dict é um tipo de dado muito flexível do Python.\n",
        "Eles são utilizados para agrupar elementos através da estrutura de chave e valor, onde a chave é o primeiro elemento seguido por dois pontos e pelo valor.\n",
        "Vamos ver alguns exemplos:"
      ]
    },
    {
      "cell_type": "code",
      "execution_count": null,
      "metadata": {
        "colab": {
          "base_uri": "https://localhost:8080/"
        },
        "id": "cxjMD4JaPwOu",
        "outputId": "a2d73309-9073-435b-c8d1-e19e7378cce0"
      },
      "outputs": [
        {
          "ename": "",
          "evalue": "",
          "output_type": "error",
          "traceback": [
            "\u001b[1;31mThe kernel failed to start due to the missing module 'dartkernel'. Consider installing this module.\n",
            "\u001b[1;31mClick <a href='https://aka.ms/kernelFailuresMissingModule'>here</a> for more info."
          ]
        }
      ],
      "source": [
        "altura = {'Amanda': 1.65, 'Ana': 1.60, 'João': 1.70}\n",
        "peso = {'Amanda': 60, 'Ana': 58, 'João': 68}\n",
        "\n",
        "print(type(altura))\n",
        "print(type(peso))"
      ]
    },
    {
      "cell_type": "markdown",
      "metadata": {
        "id": "FHl9dnoQPwOu"
      },
      "source": [
        "Veja a forma correta de usar este recurso:"
      ]
    },
    {
      "cell_type": "code",
      "execution_count": null,
      "metadata": {
        "id": "TpRwN67YPwOv"
      },
      "outputs": [
        {
          "ename": "",
          "evalue": "",
          "output_type": "error",
          "traceback": [
            "\u001b[1;31mThe kernel failed to start due to the missing module 'dartkernel'. Consider installing this module.\n",
            "\u001b[1;31mClick <a href='https://aka.ms/kernelFailuresMissingModule'>here</a> for more info."
          ]
        }
      ],
      "source": [
        "people = {\n",
        "    \"name\": \"joao\",\n",
        "    \"age\": 39,\n",
        "    \"skylls\": ['python', 'ruby', 'php']\n",
        "}\n",
        "\n",
        "print(people['name'])\n",
        "print(people['age'])\n",
        "print(people['skylls'])"
      ]
    },
    {
      "cell_type": "markdown",
      "metadata": {
        "id": "-imBp7G8PwOv"
      },
      "source": [
        "### 3.10) Valor nulo (null)\n",
        "\n",
        "Em Python, None equivale ao valor nulo (null). Podemos iniciar as variáveis com o valor None."
      ]
    },
    {
      "cell_type": "code",
      "execution_count": null,
      "metadata": {
        "id": "CHw_-QUNPwOv"
      },
      "outputs": [
        {
          "ename": "",
          "evalue": "",
          "output_type": "error",
          "traceback": [
            "\u001b[1;31mThe kernel failed to start due to the missing module 'dartkernel'. Consider installing this module.\n",
            "\u001b[1;31mClick <a href='https://aka.ms/kernelFailuresMissingModule'>here</a> for more info."
          ]
        }
      ],
      "source": [
        "reais = None"
      ]
    },
    {
      "cell_type": "markdown",
      "metadata": {
        "id": "WqHM-pRhPwOv",
        "tags": []
      },
      "source": [
        "### 3.11) Mudando o tipo de uma variável\n",
        "<hr>\n",
        "\n",
        "Em determinados cenários pode ser necessário mudar o tipo de uma variável e no Python isso é muito fácil, uma das vantagens de uma linguagem dinamicamente tipada.\n",
        "Abaixo veremos exemplos de como trocar o tipo de variáveis."
      ]
    },
    {
      "cell_type": "markdown",
      "metadata": {
        "id": "veCW271-PwOw"
      },
      "source": [
        "#### 3.11.1) Decimal (float) para String (str)"
      ]
    },
    {
      "cell_type": "code",
      "execution_count": null,
      "metadata": {
        "id": "J8P53bnPPwOw"
      },
      "outputs": [
        {
          "ename": "",
          "evalue": "",
          "output_type": "error",
          "traceback": [
            "\u001b[1;31mThe kernel failed to start due to the missing module 'dartkernel'. Consider installing this module.\n",
            "\u001b[1;31mClick <a href='https://aka.ms/kernelFailuresMissingModule'>here</a> for more info."
          ]
        }
      ],
      "source": [
        "# Antes da conversão\n",
        "altura = 1.80\n",
        "print(type(altura))\n",
        "\n",
        "# Conversão do tipo\n",
        "altura = str(altura)\n",
        "\n",
        "# Depois da conversão\n",
        "print(type(altura))\n",
        "print(altura)"
      ]
    },
    {
      "cell_type": "markdown",
      "metadata": {
        "id": "VeihlKhMPwOw"
      },
      "source": [
        "#### 3.11.2) Inteiro (int) para Decimal (float):"
      ]
    },
    {
      "cell_type": "code",
      "execution_count": null,
      "metadata": {
        "id": "U53pBtDkPwOw"
      },
      "outputs": [
        {
          "ename": "",
          "evalue": "",
          "output_type": "error",
          "traceback": [
            "\u001b[1;31mThe kernel failed to start due to the missing module 'dartkernel'. Consider installing this module.\n",
            "\u001b[1;31mClick <a href='https://aka.ms/kernelFailuresMissingModule'>here</a> for more info."
          ]
        }
      ],
      "source": [
        "# Antes da conversão\n",
        "idade = 18\n",
        "print(type(idade))\n",
        "\n",
        "# Conversão do tipo\n",
        "idade = float(idade)\n",
        "\n",
        "# Depois da conversão\n",
        "print(type(idade))\n",
        "print(idade)"
      ]
    },
    {
      "cell_type": "markdown",
      "metadata": {
        "id": "sSGlrkPtPwOw"
      },
      "source": [
        "#### 3.11.3) Booleano (bool) para Inteiro (int)"
      ]
    },
    {
      "cell_type": "code",
      "execution_count": null,
      "metadata": {
        "id": "nkbh4SgSPwOx"
      },
      "outputs": [
        {
          "ename": "",
          "evalue": "",
          "output_type": "error",
          "traceback": [
            "\u001b[1;31mThe kernel failed to start due to the missing module 'dartkernel'. Consider installing this module.\n",
            "\u001b[1;31mClick <a href='https://aka.ms/kernelFailuresMissingModule'>here</a> for more info."
          ]
        }
      ],
      "source": [
        "# Antes da conversão\n",
        "fim_de_semana = True\n",
        "print(type(fim_de_semana))\n",
        "\n",
        "# Conversão do tipo\n",
        "fim_de_semana = int(fim_de_semana)\n",
        "\n",
        "# Depois da conversão\n",
        "print(type(fim_de_semana))\n",
        "print(fim_de_semana)"
      ]
    },
    {
      "cell_type": "markdown",
      "metadata": {
        "id": "srERKC0WPwOx"
      },
      "source": [
        "#### 3.11.4) String (str) para Inteiro (int)"
      ]
    },
    {
      "cell_type": "code",
      "execution_count": null,
      "metadata": {
        "id": "H0UIGhqCPwOx"
      },
      "outputs": [
        {
          "ename": "",
          "evalue": "",
          "output_type": "error",
          "traceback": [
            "\u001b[1;31mThe kernel failed to start due to the missing module 'dartkernel'. Consider installing this module.\n",
            "\u001b[1;31mClick <a href='https://aka.ms/kernelFailuresMissingModule'>here</a> for more info."
          ]
        }
      ],
      "source": [
        "numeroEmString = input (\"Digite um número \")\n",
        "print(type(numeroEmString))\n",
        "numero = int(numeroEmString)\n",
        "print(type(numero))"
      ]
    },
    {
      "cell_type": "markdown",
      "metadata": {
        "id": "0sli0CyrPwOx"
      },
      "source": [
        "#### 3.11.5) String (str) para Decimal (float)"
      ]
    },
    {
      "cell_type": "code",
      "execution_count": null,
      "metadata": {
        "id": "srb2IrUnPwOy"
      },
      "outputs": [
        {
          "ename": "",
          "evalue": "",
          "output_type": "error",
          "traceback": [
            "\u001b[1;31mThe kernel failed to start due to the missing module 'dartkernel'. Consider installing this module.\n",
            "\u001b[1;31mClick <a href='https://aka.ms/kernelFailuresMissingModule'>here</a> for more info."
          ]
        }
      ],
      "source": [
        "y = \"12.5\"\n",
        "z = float(y)\n",
        "print(z)\n",
        "print(type(z)) #float"
      ]
    },
    {
      "cell_type": "markdown",
      "metadata": {
        "id": "nC05ov7uPwOy"
      },
      "source": [
        "### 3.12) Erros comuns relacionados ao tipo da variável\n",
        "\n",
        "Entre os erros mais comuns que acontecem principalmente com quem está iniciando sua jornada com a linguagem Python estão os famosos TypeError!\n",
        "Portanto preste sempre atenção nesse tipo de erro pois ele está relacionado a tipagem errada de uma variável ou objeto.\n",
        "Além disso, pode representar uma operação incompatível, como tentar fazer uma operação matemática com variáveis de tipo incompatíveis.\n",
        "Por exemplo, suponha as seguintes variáveis, do tipo inteiro e string, respectivamente:"
      ]
    },
    {
      "cell_type": "code",
      "execution_count": null,
      "metadata": {
        "id": "J2D93C_XPwOy"
      },
      "outputs": [
        {
          "ename": "",
          "evalue": "",
          "output_type": "error",
          "traceback": [
            "\u001b[1;31mThe kernel failed to start due to the missing module 'dartkernel'. Consider installing this module.\n",
            "\u001b[1;31mClick <a href='https://aka.ms/kernelFailuresMissingModule'>here</a> for more info."
          ]
        }
      ],
      "source": [
        "peso = 65.55\n",
        "altura = '1.7'\n",
        "\n",
        "imc = peso/altura**2"
      ]
    },
    {
      "cell_type": "markdown",
      "metadata": {
        "id": "YCYhw_pbPwOy"
      },
      "source": [
        "Para fazer esse cálculo corretamente a altura não pode ser string, podendo ser float ou inteiro (caso não fosse um valor decimal).\n",
        "Uma forma correta de realizar esse cálculo seria da seguinte maneira:"
      ]
    },
    {
      "cell_type": "code",
      "execution_count": null,
      "metadata": {
        "id": "z2JERKboPwOy"
      },
      "outputs": [
        {
          "ename": "",
          "evalue": "",
          "output_type": "error",
          "traceback": [
            "\u001b[1;31mThe kernel failed to start due to the missing module 'dartkernel'. Consider installing this module.\n",
            "\u001b[1;31mClick <a href='https://aka.ms/kernelFailuresMissingModule'>here</a> for more info."
          ]
        }
      ],
      "source": [
        "peso = 65.55\n",
        "altura = 1.7\n",
        "imc = peso/altura**2\n",
        "print(imc)"
      ]
    },
    {
      "cell_type": "markdown",
      "metadata": {
        "id": "fAq-i54iPwOz"
      },
      "source": [
        "Sempre que o tipo TypeError aparecer em seu programa, preste atenção aos tipos dos dados e as operações que estão sendo executadas.\n",
        "Caso seja necessário, faça a conversão das variáveis para se trabalhar com os tipos correto!"
      ]
    },
    {
      "cell_type": "markdown",
      "metadata": {
        "id": "U3IiiGIxPwOz",
        "tags": []
      },
      "source": [
        "### 3.13) Tipagem de dados (Type Annotations)\n",
        "\n",
        "Na pratica existe dois tipo de tipagem de dados: **Estática** e **Dinâmica**.\n",
        "Na **Tipagem Estática**, os tipos são verificados antes do tempo de execução. Ou seja, o programador deve especificar o tipo de cada variável ou a linguagem deve prover algum tipo de sistema de inferência.\n",
        "Já na **Tipagem Dinâmica**, os tipos são verificados durante a execução, o que significa que os tipos são associados a valores encontrados em tempo de execução e não a nomes pré definidos no momento de escrita do código fonte.\n",
        "Em linguagem com **tipagem forte**, todas as operações entre tipos diferentes deve ser explicitamente definidas e operações não definidas entre tipos vão resultar em um erro. Mas o que isso significa na prática? Vamos usar Python, uma linguagem fortemente tipada, para dar alguns exemplos.\n",
        "\n",
        "Como o operador __and__ de uma string é utilizado para operações de concatenação, quando tentamos utilizar com um int, o interpretador vai retornar um erro em runtime."
      ]
    },
    {
      "cell_type": "code",
      "execution_count": null,
      "metadata": {
        "id": "wzbKfh9IPwOz"
      },
      "outputs": [
        {
          "ename": "",
          "evalue": "",
          "output_type": "error",
          "traceback": [
            "\u001b[1;31mThe kernel failed to start due to the missing module 'dartkernel'. Consider installing this module.\n",
            "\u001b[1;31mClick <a href='https://aka.ms/kernelFailuresMissingModule'>here</a> for more info."
          ]
        }
      ],
      "source": [
        "\"5\" + 3"
      ]
    },
    {
      "cell_type": "markdown",
      "metadata": {
        "id": "TzOF9UJbPwOz"
      },
      "source": [
        "O mesmo acontece se a gente tentar diminuir 3 de uma string ‘5’, porque em Python, a operação de subtração entre strings e inteiros simplesmente não faz sentido."
      ]
    },
    {
      "cell_type": "code",
      "execution_count": null,
      "metadata": {
        "id": "6Etbjl25PwO0"
      },
      "outputs": [
        {
          "ename": "",
          "evalue": "",
          "output_type": "error",
          "traceback": [
            "\u001b[1;31mThe kernel failed to start due to the missing module 'dartkernel'. Consider installing this module.\n",
            "\u001b[1;31mClick <a href='https://aka.ms/kernelFailuresMissingModule'>here</a> for more info."
          ]
        }
      ],
      "source": [
        "\"5\" — 3"
      ]
    },
    {
      "cell_type": "markdown",
      "metadata": {
        "id": "9_MTebTmPwO0"
      },
      "source": [
        "O mesmo vale para operação de subtração entre duas strings:"
      ]
    },
    {
      "cell_type": "code",
      "execution_count": null,
      "metadata": {
        "id": "vzU3gYMuPwO0"
      },
      "outputs": [
        {
          "ename": "",
          "evalue": "",
          "output_type": "error",
          "traceback": [
            "\u001b[1;31mThe kernel failed to start due to the missing module 'dartkernel'. Consider installing this module.\n",
            "\u001b[1;31mClick <a href='https://aka.ms/kernelFailuresMissingModule'>here</a> for more info."
          ]
        }
      ],
      "source": [
        "\"5\" — \"3\""
      ]
    },
    {
      "cell_type": "markdown",
      "metadata": {
        "id": "Q2O7uzv2PwO0"
      },
      "source": [
        "Ser fortemente tipada foi uma escolha consciente de design da linguagem que preza por comportamentos **explícitos**. Problemas como esse são fáceis de se resolver porque uma erro é levantado exatamente no local em que uma operação inválida acontece.\n",
        "Já nas linguagens fracamente tipadas, o tipo de um valor vai depender de como ele é usado. Ou seja, o compilador ou interpretador podem decidir em tempo de compilação ou tempo de execução como lidar com uma variável. Existe um conjunto de regras pra isso e mesmo sendo um sistema determinístico, isso pode gerar muita estranheza e confusão.\n",
        "Para dar alguns exemplos sobre o comportamento de linguagens fracamente tipadas, vamos usar **JavaScript** pela popularidade. Vamos executar as mesmas operações que fizemos nos exemplos com Python e observar a diferença nos resultados.\n",
        "A operação + entre uma string e um inteiro faz com que o interpretador trate o número como uma string e execute uma concatenação."
      ]
    },
    {
      "cell_type": "code",
      "execution_count": null,
      "metadata": {
        "id": "uRVD9J4HPwO0"
      },
      "outputs": [
        {
          "ename": "",
          "evalue": "",
          "output_type": "error",
          "traceback": [
            "\u001b[1;31mThe kernel failed to start due to the missing module 'dartkernel'. Consider installing this module.\n",
            "\u001b[1;31mClick <a href='https://aka.ms/kernelFailuresMissingModule'>here</a> for more info."
          ]
        }
      ],
      "source": [
        "!pip -q install js2py\n",
        "import js2py as jy\n",
        "js_code = jy.eval_js('''\n",
        "'5'+3\n",
        "''')\n",
        "display(js_code)"
      ]
    },
    {
      "cell_type": "markdown",
      "metadata": {
        "id": "BSUXKUEBPwO1"
      },
      "source": [
        "Já numa operação — entre uma string e um inteiro, ele trata os dois como números e executa uma subtração algébrica."
      ]
    },
    {
      "cell_type": "code",
      "execution_count": null,
      "metadata": {
        "id": "yqrWx8jMPwO1"
      },
      "outputs": [
        {
          "ename": "",
          "evalue": "",
          "output_type": "error",
          "traceback": [
            "\u001b[1;31mThe kernel failed to start due to the missing module 'dartkernel'. Consider installing this module.\n",
            "\u001b[1;31mClick <a href='https://aka.ms/kernelFailuresMissingModule'>here</a> for more info."
          ]
        }
      ],
      "source": [
        "!pip -q install js2py\n",
        "import js2py as jy\n",
        "js_code = jy.eval_js('''\n",
        "'5' - 3\n",
        "''')\n",
        "display(js_code)"
      ]
    },
    {
      "cell_type": "markdown",
      "metadata": {
        "id": "NRQIuiRNPwO1"
      },
      "source": [
        "Quando o mesmo operador é utilizado entre duas strings, ele assume que são números e também executa, sem erros, uma subtração algébrica."
      ]
    },
    {
      "cell_type": "code",
      "execution_count": null,
      "metadata": {
        "id": "74wKo-huPwO1"
      },
      "outputs": [
        {
          "ename": "",
          "evalue": "",
          "output_type": "error",
          "traceback": [
            "\u001b[1;31mThe kernel failed to start due to the missing module 'dartkernel'. Consider installing this module.\n",
            "\u001b[1;31mClick <a href='https://aka.ms/kernelFailuresMissingModule'>here</a> for more info."
          ]
        }
      ],
      "source": [
        "!pip -q install js2py\n",
        "import js2py as jy\n",
        "js_code = jy.eval_js('''\n",
        "'5' - '3'\n",
        "''')\n",
        "display(js_code)"
      ]
    },
    {
      "cell_type": "markdown",
      "metadata": {
        "id": "i55sm4tSPwO2"
      },
      "source": [
        "A escolha de criar Javascript como uma linguagem fracamente tipada também foi consciente e normalmente tá ligada com o desejo de se escrever menos. O preço que se paga por isso é que a lógica fica mais complexa porque muitos dos comportamentos ficam escondidos em regras de conversão **implícitas**."
      ]
    },
    {
      "cell_type": "markdown",
      "metadata": {
        "id": "UDrMyWYHPwO2"
      },
      "source": [
        "### 3.14) Vantagens de declarações explícitas de tipos\n",
        "\n",
        "As definições de tipos ao longo do código acabam servindo como uma forma de Documentação, especificando de forma clara determinados contratos e regras de tipos. Ao contrário da documentação que já geramos em texto usando docstrings, que inevitavelmente acabam contendo erros e podendo ficar ultrapassadas com a mesma velocidade em que a sua aplicação vai crescendo e mudando, a especificação de tipos faz parte do código e deve permanecer correta. Por exemplo: Se você mudar o tipo do argumento de uma função sem mudar a documentação relacionada ao tipo, nada vai acontecer, mas se você fizer o mesmo com type hints, o seu analisador estático vai acusar um erro.\n",
        "Também pode ser utilizada para Otimização de código pois informações de tipos são muito importantes para otimizações em tempo de compilação.\n",
        "Te dão a Segurança de que é possível analisar o programa e que o sistema de tipos vai permitir que sejam detectados códigos que não fazem sentido e são um erro. Por exemplo, é fácil detectar que 12 dividido pela string “banana” é algo que não faz sentido se não existirem regras de como dividir um inteiro por uma string.\n",
        "Code-complete melhor é um dos meus motivos preferidos. Minha memória constantemente me deixa na mão e não quero ter que depender dela ou ter que abrir um outro arquivo ou documentação para saber como devo chamar uma função ou o que posso fazer com um objeto. O mesmo acaba valendo para refatorações.\n",
        "É mais fácil de se achar em uma codebase extensa. Um bom exemplo disso é que a partir de qualquer lugar é possível navegar para a definição de uma classe ou para o contrato de um método, sem precisar saber nada da estrutura de um projeto ou de suas dependências. Essa característica também faz com que seja muito útil para etapa de code review, fazendo com que seus pares consigam se localizar rapidamente sem um contexto muito amplo da sua aplicação."
      ]
    },
    {
      "cell_type": "markdown",
      "metadata": {
        "id": "tjI2csJwPwO2"
      },
      "source": [
        "### 3.15) Começando a usar Type Hints\n",
        "\n",
        "Vamos começar definindo uma função soma, que espera dois argumentos, a e b e retorna a soma desses dois argumentos."
      ]
    },
    {
      "cell_type": "code",
      "execution_count": null,
      "metadata": {
        "id": "kY0WOudlPwO3"
      },
      "outputs": [
        {
          "ename": "",
          "evalue": "",
          "output_type": "error",
          "traceback": [
            "\u001b[1;31mThe kernel failed to start due to the missing module 'dartkernel'. Consider installing this module.\n",
            "\u001b[1;31mClick <a href='https://aka.ms/kernelFailuresMissingModule'>here</a> for more info."
          ]
        }
      ],
      "source": [
        "def soma(a, b):\n",
        "    return a + b"
      ]
    },
    {
      "cell_type": "markdown",
      "metadata": {
        "id": "QRNzHG9hPwO3"
      },
      "source": [
        "A partir do nome da função, podemos inferir que ela espera dois números e que retorna a soma algébrica desses dois números. Vamos deixar esse contrato mais explícito usando Type Hints, anotando os tipos dos argumentos e o tipo do retorno."
      ]
    },
    {
      "cell_type": "code",
      "execution_count": null,
      "metadata": {
        "id": "djz9lD4bPwO3"
      },
      "outputs": [
        {
          "ename": "",
          "evalue": "",
          "output_type": "error",
          "traceback": [
            "\u001b[1;31mThe kernel failed to start due to the missing module 'dartkernel'. Consider installing this module.\n",
            "\u001b[1;31mClick <a href='https://aka.ms/kernelFailuresMissingModule'>here</a> for more info."
          ]
        }
      ],
      "source": [
        "def soma(a: int, b: int) -> int:\n",
        "    return a + b\n",
        "\n",
        "soma(6, 4)\n",
        "soma(6, '6')\n",
        "soma(6, 4) + 'Xablau'"
      ]
    },
    {
      "cell_type": "markdown",
      "metadata": {
        "id": "TtSe_DNcPwO3"
      },
      "source": [
        "Esse é um exemplo bem simples, pra que fique bem claro o que funcionaria e o que a gente sabe que vai gerar algum tipo de erro em tempo de execução."
      ]
    },
    {
      "cell_type": "markdown",
      "metadata": {
        "id": "MGZnETrQPwO4",
        "jp-MarkdownHeadingCollapsed": true,
        "tags": []
      },
      "source": [
        "## 4) Laços e Condicionais\n",
        "<hr>"
      ]
    },
    {
      "cell_type": "markdown",
      "metadata": {
        "id": "AZ7T72wdPwO4",
        "tags": []
      },
      "source": [
        "### 4.1) Controles de Fluxo"
      ]
    },
    {
      "cell_type": "code",
      "execution_count": null,
      "metadata": {
        "id": "IqmUO8g8PwO4"
      },
      "outputs": [
        {
          "ename": "",
          "evalue": "",
          "output_type": "error",
          "traceback": [
            "\u001b[1;31mThe kernel failed to start due to the missing module 'dartkernel'. Consider installing this module.\n",
            "\u001b[1;31mClick <a href='https://aka.ms/kernelFailuresMissingModule'>here</a> for more info."
          ]
        }
      ],
      "source": [
        "expressao = True\n",
        "if expressao == True:\n",
        "    print(\"true\")\n",
        "else:\n",
        "    print(\"false\")"
      ]
    },
    {
      "cell_type": "code",
      "execution_count": null,
      "metadata": {
        "id": "a8lMzhn_PwO4"
      },
      "outputs": [
        {
          "ename": "",
          "evalue": "",
          "output_type": "error",
          "traceback": [
            "\u001b[1;31mThe kernel failed to start due to the missing module 'dartkernel'. Consider installing this module.\n",
            "\u001b[1;31mClick <a href='https://aka.ms/kernelFailuresMissingModule'>here</a> for more info."
          ]
        }
      ],
      "source": [
        "answer = 3\n",
        "if answer > 5:\n",
        "    print(1)\n",
        "elif answer < 5:\n",
        "    print(-1)\n",
        "else:\n",
        "    print(0)"
      ]
    },
    {
      "cell_type": "markdown",
      "metadata": {
        "id": "YYhy6B7lPwO5"
      },
      "source": [
        "### 4.2) Laços de repetição\n",
        "\n",
        "Exemplo com for"
      ]
    },
    {
      "cell_type": "code",
      "execution_count": null,
      "metadata": {
        "id": "M9ptyfSgPwO5"
      },
      "outputs": [
        {
          "ename": "",
          "evalue": "",
          "output_type": "error",
          "traceback": [
            "\u001b[1;31mThe kernel failed to start due to the missing module 'dartkernel'. Consider installing this module.\n",
            "\u001b[1;31mClick <a href='https://aka.ms/kernelFailuresMissingModule'>here</a> for more info."
          ]
        }
      ],
      "source": [
        "lista = [\"p\", \"y\", \"t\", \"h\", \"o\", \"n\"]\n",
        "for item in lista:\n",
        "    print(item)"
      ]
    },
    {
      "cell_type": "markdown",
      "metadata": {
        "id": "jaxZJqP0PwO5"
      },
      "source": [
        "Exempo com while"
      ]
    },
    {
      "cell_type": "code",
      "execution_count": null,
      "metadata": {
        "id": "5Soq06vwPwO5"
      },
      "outputs": [
        {
          "ename": "",
          "evalue": "",
          "output_type": "error",
          "traceback": [
            "\u001b[1;31mThe kernel failed to start due to the missing module 'dartkernel'. Consider installing this module.\n",
            "\u001b[1;31mClick <a href='https://aka.ms/kernelFailuresMissingModule'>here</a> for more info."
          ]
        }
      ],
      "source": [
        "count = 0\n",
        "while count <= 5:\n",
        "    print(count)\n",
        "    count += 1"
      ]
    },
    {
      "cell_type": "markdown",
      "metadata": {
        "id": "LEu_uBfNJr1B"
      },
      "source": [
        "Exempo com try"
      ]
    },
    {
      "cell_type": "code",
      "execution_count": null,
      "metadata": {
        "id": "AknckFX3JrP5"
      },
      "outputs": [
        {
          "ename": "",
          "evalue": "",
          "output_type": "error",
          "traceback": [
            "\u001b[1;31mThe kernel failed to start due to the missing module 'dartkernel'. Consider installing this module.\n",
            "\u001b[1;31mClick <a href='https://aka.ms/kernelFailuresMissingModule'>here</a> for more info."
          ]
        }
      ],
      "source": [
        "try:\n",
        "  y = '10' - 2\n",
        "  print(y)\n",
        "except:\n",
        "  print(\"Operação indevida !!\")\n"
      ]
    },
    {
      "cell_type": "markdown",
      "metadata": {
        "id": "Ogj6QzZqPwO6",
        "jp-MarkdownHeadingCollapsed": true,
        "tags": []
      },
      "source": [
        "## 5) Funções\n",
        "<hr>"
      ]
    },
    {
      "cell_type": "markdown",
      "metadata": {
        "id": "aZ5h_-4APwO6"
      },
      "source": [
        "### 5.1) Introdução\n",
        "\n",
        "A palavra def define o início da função\n",
        "Juntamente com a palavra pass podemos criar uma função que não faz absolutamente nada."
      ]
    },
    {
      "cell_type": "code",
      "execution_count": null,
      "metadata": {
        "id": "vFuEq5sMPwO6"
      },
      "outputs": [
        {
          "ename": "",
          "evalue": "",
          "output_type": "error",
          "traceback": [
            "\u001b[1;31mThe kernel failed to start due to the missing module 'dartkernel'. Consider installing this module.\n",
            "\u001b[1;31mClick <a href='https://aka.ms/kernelFailuresMissingModule'>here</a> for more info."
          ]
        }
      ],
      "source": [
        "def foo():\n",
        "    pass"
      ]
    },
    {
      "cell_type": "markdown",
      "metadata": {
        "id": "o_g-3SKVPwO6"
      },
      "source": [
        "O comando return interrompe a execução da função e define o retorno.\n",
        "Exemplo de funções."
      ]
    },
    {
      "cell_type": "code",
      "execution_count": null,
      "metadata": {
        "id": "U8590NalPwO6"
      },
      "outputs": [
        {
          "ename": "",
          "evalue": "",
          "output_type": "error",
          "traceback": [
            "\u001b[1;31mThe kernel failed to start due to the missing module 'dartkernel'. Consider installing this module.\n",
            "\u001b[1;31mClick <a href='https://aka.ms/kernelFailuresMissingModule'>here</a> for more info."
          ]
        }
      ],
      "source": [
        "def foo():\n",
        "    return \"retorno da função\"\n",
        "\n",
        "print(foo()) # \"retorno da função\""
      ]
    },
    {
      "cell_type": "markdown",
      "metadata": {
        "id": "LWaZrRchPwO7"
      },
      "source": [
        "A funções aceitam Doc Strings, strings que estão associadas a uma estrutura do Python e são colocadas dentro do corpo da função, geralmenteno começo. O objetivo das Doc Strings é servir de documentação para aquela estrutura. (Borges, Python Para desenvolvedores, pag. 52)\n",
        "Os argumentos definidos na assinatura da função são obrigatórios, veja o exemplo abaixo."
      ]
    },
    {
      "cell_type": "code",
      "execution_count": null,
      "metadata": {
        "id": "NR9_q6cwPwO7"
      },
      "outputs": [
        {
          "ename": "",
          "evalue": "",
          "output_type": "error",
          "traceback": [
            "\u001b[1;31mThe kernel failed to start due to the missing module 'dartkernel'. Consider installing this module.\n",
            "\u001b[1;31mClick <a href='https://aka.ms/kernelFailuresMissingModule'>here</a> for more info."
          ]
        }
      ],
      "source": [
        "def add_two(a, b):\n",
        "    \"\"\" Exemplo de Doc strings\n",
        "    \"\"\"\n",
        "    c = a + b\n",
        "    return c\n",
        "\n",
        "print(add_two(2, 2))"
      ]
    },
    {
      "cell_type": "markdown",
      "metadata": {
        "id": "2n4dbF1aPwO7"
      },
      "source": [
        "Podemos passar argumentos posicionados, a ordem é importante."
      ]
    },
    {
      "cell_type": "code",
      "execution_count": null,
      "metadata": {
        "id": "fbky3U2NPwO8"
      },
      "outputs": [
        {
          "ename": "",
          "evalue": "",
          "output_type": "error",
          "traceback": [
            "\u001b[1;31mThe kernel failed to start due to the missing module 'dartkernel'. Consider installing this module.\n",
            "\u001b[1;31mClick <a href='https://aka.ms/kernelFailuresMissingModule'>here</a> for more info."
          ]
        }
      ],
      "source": [
        "def juntar(parte1, parte2):\n",
        "    return parte1 + \" \" + parte2\n",
        "juntar(\"Hello\", \"world\")"
      ]
    },
    {
      "cell_type": "markdown",
      "metadata": {
        "id": "vDdOFLoyPwO8"
      },
      "source": [
        "Ou podemos passar os nomes das variáveis junto com os valores, dessa forma a ordem não importa."
      ]
    },
    {
      "cell_type": "code",
      "execution_count": null,
      "metadata": {
        "id": "WPcgJapOPwO8"
      },
      "outputs": [
        {
          "ename": "",
          "evalue": "",
          "output_type": "error",
          "traceback": [
            "\u001b[1;31mThe kernel failed to start due to the missing module 'dartkernel'. Consider installing this module.\n",
            "\u001b[1;31mClick <a href='https://aka.ms/kernelFailuresMissingModule'>here</a> for more info."
          ]
        }
      ],
      "source": [
        "def juntar(parte1 = 'Hello', parte2 = \"word\"):\n",
        "    return parte1 + \" \" + parte2\n",
        "\n",
        "juntar(parte2=\"House\")"
      ]
    },
    {
      "cell_type": "markdown",
      "metadata": {
        "id": "Tg9fw6y5PwO8"
      },
      "source": [
        "Podemos utilizar valores padrão (default, lê-se ‘dêfú’)"
      ]
    },
    {
      "cell_type": "code",
      "execution_count": null,
      "metadata": {
        "id": "1DZLv_6vPwO8"
      },
      "outputs": [
        {
          "ename": "",
          "evalue": "",
          "output_type": "error",
          "traceback": [
            "\u001b[1;31mThe kernel failed to start due to the missing module 'dartkernel'. Consider installing this module.\n",
            "\u001b[1;31mClick <a href='https://aka.ms/kernelFailuresMissingModule'>here</a> for more info."
          ]
        }
      ],
      "source": [
        "def juntar(parte1='Hello', parte2='world'):\n",
        "    return parte1 + \" \" + parte2\n",
        "juntar()"
      ]
    },
    {
      "cell_type": "markdown",
      "metadata": {
        "id": "q0f81E2RPwO9"
      },
      "source": [
        "Também podemos passar uma quantidade variavel de argumentos para uma função usando a directiva **\\*args**."
      ]
    },
    {
      "cell_type": "code",
      "execution_count": null,
      "metadata": {
        "id": "G7tAFJZrPwO9"
      },
      "outputs": [
        {
          "ename": "",
          "evalue": "",
          "output_type": "error",
          "traceback": [
            "\u001b[1;31mThe kernel failed to start due to the missing module 'dartkernel'. Consider installing this module.\n",
            "\u001b[1;31mClick <a href='https://aka.ms/kernelFailuresMissingModule'>here</a> for more info."
          ]
        }
      ],
      "source": [
        "def smallest_number(*args):\n",
        "    print(len(args))\n",
        "\n",
        "smallest_number(-10, -5, 5, 10)\n",
        "smallest_number(5, 10)"
      ]
    },
    {
      "cell_type": "markdown",
      "metadata": {
        "id": "s-Hf-4CEPwO9"
      },
      "source": [
        "### 5.2) Função Map\n",
        "\n",
        "Pega uma lista de informações e aplica, sobre cada um dos valores dessa lista de informações, uma função.\n",
        "Isso quer dizer que essa função vai pegar essa lista de informações e vai aplicar a função para cada elemento.\n",
        "Então, sempre que for executar uma função para vários valores de uma lista, nós vamos utilizar a função map.\n",
        "Essa função map precisa de duas informações para que ela funcione, a função e a lista de informações."
      ]
    },
    {
      "cell_type": "code",
      "execution_count": null,
      "metadata": {
        "id": "HAOS3kc7PwO9"
      },
      "outputs": [
        {
          "ename": "",
          "evalue": "",
          "output_type": "error",
          "traceback": [
            "\u001b[1;31mThe kernel failed to start due to the missing module 'dartkernel'. Consider installing this module.\n",
            "\u001b[1;31mClick <a href='https://aka.ms/kernelFailuresMissingModule'>here</a> for more info."
          ]
        }
      ],
      "source": [
        "precos = [1000, 1500, 1250, 2500]\n",
        "def adicionar_imposto(preco):\n",
        "    return preco*1.1\n",
        "precos_com_imposto = []\n",
        "for preco in precos:\n",
        "    precos_com_imposto.append(adicionar_imposto(preco))\n",
        "print(precos_com_imposto)"
      ]
    },
    {
      "cell_type": "markdown",
      "metadata": {
        "id": "MqQYylxTPwO9"
      },
      "source": [
        "Exemplo foi usando a estrutura de repetição FOR. Aqui temos a criação de uma função bem simples, que vai apenas adicionar um “imposto” de 10% em um preço da lista.\n",
        "Agora imagine que você queira aplicar essa função em todos os elementos dessa lista. De cara já pode pensar em utilizar a estrutura de repetição for.\n",
        "Agora vamos a utilização do map para aplicar uma função nos itens de uma lista e vamos aproveitar e apresentar a função lambda no lugar da função `adicionar_imposto`"
      ]
    },
    {
      "cell_type": "code",
      "execution_count": null,
      "metadata": {
        "id": "4WW70EijPwO-"
      },
      "outputs": [
        {
          "ename": "",
          "evalue": "",
          "output_type": "error",
          "traceback": [
            "\u001b[1;31mThe kernel failed to start due to the missing module 'dartkernel'. Consider installing this module.\n",
            "\u001b[1;31mClick <a href='https://aka.ms/kernelFailuresMissingModule'>here</a> for more info."
          ]
        }
      ],
      "source": [
        "precos = [1000, 1500, 1250, 2500]\n",
        "precos_com_imposto = list(map(lambda x: x*1.1, precos))\n",
        "print(precos_com_imposto)"
      ]
    },
    {
      "cell_type": "markdown",
      "metadata": {
        "id": "ROvtgqW4PwO-"
      },
      "source": [
        "### 5.3) Função Lambda\n",
        "\n",
        "Considera a seguinte função:"
      ]
    },
    {
      "cell_type": "code",
      "execution_count": null,
      "metadata": {
        "id": "f6C64WgmPwO-"
      },
      "outputs": [
        {
          "ename": "",
          "evalue": "",
          "output_type": "error",
          "traceback": [
            "\u001b[1;31mThe kernel failed to start due to the missing module 'dartkernel'. Consider installing this module.\n",
            "\u001b[1;31mClick <a href='https://aka.ms/kernelFailuresMissingModule'>here</a> for more info."
          ]
        }
      ],
      "source": [
        "def f(x):\n",
        "    return x * 2\n",
        "print(f(6))"
      ]
    },
    {
      "cell_type": "markdown",
      "metadata": {
        "id": "XxNnJWG0PwO-"
      },
      "source": [
        "As funções Lambda são chamadas de funções anônimas. Nada mais são do que funções que o usuário não precisa definir, ou seja, não vai precisar escrever a função e depois utilizá-la dentro do código. Agrande vantagem de usar Lambda é criar um parâmetro para outra função.\n",
        "Você não precisa, por exemplo, definir uma função para depois, passá-la para o map usá-la. Basta criar e passar o Lambda adiante.\n",
        "Isso, consequentemente, já torna suas tarefas muito mais práticas, objetivas e rápidas — ainda mais para quem precisa realizar muitos cálculos diariamente.\n",
        "Mas, atenção: para conseguir usufruir das vantagens, é muito importante entender o começo de tudo. Ela recebe o que fica antes dos dois pontos como informação e, depois, te passa um resultado."
      ]
    },
    {
      "cell_type": "code",
      "execution_count": null,
      "metadata": {
        "id": "MqC73k8hPwO_"
      },
      "outputs": [
        {
          "ename": "",
          "evalue": "",
          "output_type": "error",
          "traceback": [
            "\u001b[1;31mThe kernel failed to start due to the missing module 'dartkernel'. Consider installing this module.\n",
            "\u001b[1;31mClick <a href='https://aka.ms/kernelFailuresMissingModule'>here</a> for more info."
          ]
        }
      ],
      "source": [
        "g = lambda x: x * 2\n",
        "print(g(6))"
      ]
    },
    {
      "cell_type": "markdown",
      "metadata": {
        "id": "kqTgz4hvPwO_"
      },
      "source": [
        "Veja este outro exemplo:"
      ]
    },
    {
      "cell_type": "code",
      "execution_count": null,
      "metadata": {
        "id": "GV7DBkeHPwO_"
      },
      "outputs": [
        {
          "ename": "",
          "evalue": "",
          "output_type": "error",
          "traceback": [
            "\u001b[1;31mThe kernel failed to start due to the missing module 'dartkernel'. Consider installing this module.\n",
            "\u001b[1;31mClick <a href='https://aka.ms/kernelFailuresMissingModule'>here</a> for more info."
          ]
        }
      ],
      "source": [
        "precos = [125, 400, 15, 37]\n",
        "impostos = list(map(lambda x: x*0.3,precos))\n",
        "print(impostos)"
      ]
    },
    {
      "cell_type": "markdown",
      "metadata": {
        "id": "f_l5JjJhPwO_"
      },
      "source": [
        "### 5.4) Função Range\n",
        "\n",
        "A função range() retorna uma lista de inteiros. Seu conteúdo é definido pelos argumentos, veja:\n",
        "\n",
        "- range(terminal)\n",
        "- range(start, terminal)\n",
        "- range(start, terminal, step_size)\n",
        "\n",
        "Exemplos:"
      ]
    },
    {
      "cell_type": "code",
      "execution_count": null,
      "metadata": {
        "id": "BGUPrdElPwO_"
      },
      "outputs": [
        {
          "ename": "",
          "evalue": "",
          "output_type": "error",
          "traceback": [
            "\u001b[1;31mThe kernel failed to start due to the missing module 'dartkernel'. Consider installing this module.\n",
            "\u001b[1;31mClick <a href='https://aka.ms/kernelFailuresMissingModule'>here</a> for more info."
          ]
        }
      ],
      "source": [
        "print(list(range(4)))\n",
        "print(list(range(2, 8)))\n",
        "print(list(range(2, 13, 3)))"
      ]
    },
    {
      "cell_type": "markdown",
      "metadata": {
        "id": "7oGoOvz3PwPA"
      },
      "source": [
        "Percorrendo (lopping):"
      ]
    },
    {
      "cell_type": "code",
      "execution_count": null,
      "metadata": {
        "id": "oe6csFFVPwPA"
      },
      "outputs": [
        {
          "ename": "",
          "evalue": "",
          "output_type": "error",
          "traceback": [
            "\u001b[1;31mThe kernel failed to start due to the missing module 'dartkernel'. Consider installing this module.\n",
            "\u001b[1;31mClick <a href='https://aka.ms/kernelFailuresMissingModule'>here</a> for more info."
          ]
        }
      ],
      "source": [
        "for i in range(1,20):\n",
        "    print(i)"
      ]
    },
    {
      "cell_type": "markdown",
      "metadata": {
        "id": "1Dav-SlWPwPA",
        "jp-MarkdownHeadingCollapsed": true,
        "tags": []
      },
      "source": [
        "## 6) Programação Orientada a Objetos\n",
        "<hr>"
      ]
    },
    {
      "cell_type": "markdown",
      "metadata": {
        "id": "qSr2pDAFPwPA"
      },
      "source": [
        "### 6.1) Introdução\n",
        "\n",
        "Uma classe consiste da palavra chave `class` seguida de seu nome e da classe herdada entre parênteses. Abaixo, criamos a classe vazia `Car` que herda de `object`. Abaixo vemos um exemplo de classe em Python."
      ]
    },
    {
      "cell_type": "code",
      "execution_count": null,
      "metadata": {
        "id": "rz7FK7l4PwPA"
      },
      "outputs": [
        {
          "ename": "",
          "evalue": "",
          "output_type": "error",
          "traceback": [
            "\u001b[1;31mThe kernel failed to start due to the missing module 'dartkernel'. Consider installing this module.\n",
            "\u001b[1;31mClick <a href='https://aka.ms/kernelFailuresMissingModule'>here</a> for more info."
          ]
        }
      ],
      "source": [
        "class Carro(object):\n",
        "    pass"
      ]
    },
    {
      "cell_type": "markdown",
      "metadata": {
        "id": "hAL5KtF0PwPB"
      },
      "source": [
        "A palavra pass serve para criarmos um classe vazia e podemos definir a classe sem especificar a herança como no exemplo abaixo."
      ]
    },
    {
      "cell_type": "code",
      "execution_count": null,
      "metadata": {
        "id": "h2l5rxGfPwPB"
      },
      "outputs": [
        {
          "ename": "",
          "evalue": "",
          "output_type": "error",
          "traceback": [
            "\u001b[1;31mThe kernel failed to start due to the missing module 'dartkernel'. Consider installing this module.\n",
            "\u001b[1;31mClick <a href='https://aka.ms/kernelFailuresMissingModule'>here</a> for more info."
          ]
        }
      ],
      "source": [
        "class Carro():\n",
        "    pass"
      ]
    },
    {
      "cell_type": "markdown",
      "metadata": {
        "id": "vldzUVk3PwPB"
      },
      "source": [
        "Segue o exemplo de uma classe com o construtor apresentado pelo metodo `def __init__`"
      ]
    },
    {
      "cell_type": "code",
      "execution_count": null,
      "metadata": {
        "id": "-DNdCSe7PwPB"
      },
      "outputs": [
        {
          "ename": "",
          "evalue": "",
          "output_type": "error",
          "traceback": [
            "\u001b[1;31mThe kernel failed to start due to the missing module 'dartkernel'. Consider installing this module.\n",
            "\u001b[1;31mClick <a href='https://aka.ms/kernelFailuresMissingModule'>here</a> for more info."
          ]
        }
      ],
      "source": [
        "class Triangle(object):\n",
        "\n",
        "    def __init__(self, angle1, angle2, angle3):\n",
        "        self.angle1 = angle1\n",
        "        self.angle2 = angle2\n",
        "        self.angle3 = angle3\n",
        "\n",
        "    def sum_triangle(self):\n",
        "        return self.angle1 + self.angle2 + self.angle3\n",
        "\n",
        "    def check_angles(self):\n",
        "        if(self.sum_triangle() == 180):\n",
        "            return True\n",
        "        else:\n",
        "            return False"
      ]
    },
    {
      "cell_type": "markdown",
      "metadata": {
        "id": "aiZ_qzaUPwPB"
      },
      "source": [
        "Abaixo vemos um exemplo simples de como instanciar uma classe em Python."
      ]
    },
    {
      "cell_type": "code",
      "execution_count": null,
      "metadata": {
        "id": "ape0qvpJPwPC"
      },
      "outputs": [
        {
          "ename": "",
          "evalue": "",
          "output_type": "error",
          "traceback": [
            "\u001b[1;31mThe kernel failed to start due to the missing module 'dartkernel'. Consider installing this module.\n",
            "\u001b[1;31mClick <a href='https://aka.ms/kernelFailuresMissingModule'>here</a> for more info."
          ]
        }
      ],
      "source": [
        "figure = Triangle(30, 40, 50)"
      ]
    },
    {
      "cell_type": "code",
      "execution_count": null,
      "metadata": {
        "id": "Dn44ZP4nUIGE"
      },
      "outputs": [
        {
          "ename": "",
          "evalue": "",
          "output_type": "error",
          "traceback": [
            "\u001b[1;31mThe kernel failed to start due to the missing module 'dartkernel'. Consider installing this module.\n",
            "\u001b[1;31mClick <a href='https://aka.ms/kernelFailuresMissingModule'>here</a> for more info."
          ]
        }
      ],
      "source": [
        "figure.check_angles()"
      ]
    },
    {
      "cell_type": "markdown",
      "metadata": {
        "id": "uCPQkyNUPwPC"
      },
      "source": [
        "### 6.2) Instâncias Abertas"
      ]
    },
    {
      "cell_type": "markdown",
      "metadata": {
        "id": "G5uHTgXAPwPC"
      },
      "source": [
        "Em outras palavras, podemos definir as propriedades dinamicamente."
      ]
    },
    {
      "cell_type": "code",
      "execution_count": null,
      "metadata": {
        "id": "5aJn1nkVPwPC"
      },
      "outputs": [
        {
          "ename": "",
          "evalue": "",
          "output_type": "error",
          "traceback": [
            "\u001b[1;31mThe kernel failed to start due to the missing module 'dartkernel'. Consider installing this module.\n",
            "\u001b[1;31mClick <a href='https://aka.ms/kernelFailuresMissingModule'>here</a> for more info."
          ]
        }
      ],
      "source": [
        "class Carro():\n",
        "    pass\n",
        "\n",
        "fusca = Carro()\n",
        "fusca.estado = \"novo\"\n",
        "print(fusca.estado) # novo"
      ]
    },
    {
      "cell_type": "markdown",
      "metadata": {
        "id": "DDY1yK7FPwPC"
      },
      "source": [
        "O atributo fusca.estado definido dessa forma é considerado uma instância aberta."
      ]
    },
    {
      "cell_type": "markdown",
      "metadata": {
        "id": "reH50LslPwPC"
      },
      "source": [
        "### 6.3) Atributos da classe\n",
        "\n",
        "Podemos definir a propriedade (o atributo) na classe, como sendo \"variaveis da classe\"."
      ]
    },
    {
      "cell_type": "code",
      "execution_count": null,
      "metadata": {
        "id": "xI9gaMkzPwPD"
      },
      "outputs": [
        {
          "ename": "",
          "evalue": "",
          "output_type": "error",
          "traceback": [
            "\u001b[1;31mThe kernel failed to start due to the missing module 'dartkernel'. Consider installing this module.\n",
            "\u001b[1;31mClick <a href='https://aka.ms/kernelFailuresMissingModule'>here</a> for more info."
          ]
        }
      ],
      "source": [
        "class Carro(object):\n",
        "   estado = \"novo\"\n",
        "\n",
        "print(Carro.estado) # 'novo'"
      ]
    },
    {
      "cell_type": "markdown",
      "metadata": {
        "id": "TJEHVvAuPwPD"
      },
      "source": [
        "Note bem o código acima, reparou que não precisamos instanciar a classe ? Simplesmente acessamos o atributo (que é da classe) diretamente Carro.estado. Por outro lado, repare que a propriedade também se encontra disponível nas instâncias."
      ]
    },
    {
      "cell_type": "code",
      "execution_count": null,
      "metadata": {
        "id": "iKWgmHz_PwPD"
      },
      "outputs": [
        {
          "ename": "",
          "evalue": "",
          "output_type": "error",
          "traceback": [
            "\u001b[1;31mThe kernel failed to start due to the missing module 'dartkernel'. Consider installing this module.\n",
            "\u001b[1;31mClick <a href='https://aka.ms/kernelFailuresMissingModule'>here</a> for more info."
          ]
        }
      ],
      "source": [
        "c = Carro()\n",
        "print(c.estado) # novo"
      ]
    },
    {
      "cell_type": "markdown",
      "metadata": {
        "id": "O3E_VEWXPwPD"
      },
      "source": [
        "Em Python precisamos atentar que “as coisas” ou são da classe ou são da instância."
      ]
    },
    {
      "cell_type": "markdown",
      "metadata": {
        "id": "KC3QHhnwPwPD"
      },
      "source": [
        "### 6.4) self explícito\n",
        "\n",
        "Esta é uma peculiaridade da linguagem. Fazemos referência a classe através da palavra self e todo método deve aceitar como (primeiro) parâmetro a palavra self que se refere ao próprio objeto."
      ]
    },
    {
      "cell_type": "code",
      "execution_count": null,
      "metadata": {
        "id": "41aO-mNWPwPE"
      },
      "outputs": [
        {
          "ename": "",
          "evalue": "",
          "output_type": "error",
          "traceback": [
            "\u001b[1;31mThe kernel failed to start due to the missing module 'dartkernel'. Consider installing this module.\n",
            "\u001b[1;31mClick <a href='https://aka.ms/kernelFailuresMissingModule'>here</a> for more info."
          ]
        }
      ],
      "source": [
        "class Carro(object):\n",
        "    def dirigir(self):\n",
        "        self.estado = \"usado\"\n",
        "c = Carro()\n",
        "print(c.estado) # AttributeError: 'Carro' object has no attribute 'estado'"
      ]
    },
    {
      "cell_type": "code",
      "execution_count": null,
      "metadata": {
        "id": "fQuZl2HGPwPE"
      },
      "outputs": [
        {
          "ename": "",
          "evalue": "",
          "output_type": "error",
          "traceback": [
            "\u001b[1;31mThe kernel failed to start due to the missing module 'dartkernel'. Consider installing this module.\n",
            "\u001b[1;31mClick <a href='https://aka.ms/kernelFailuresMissingModule'>here</a> for more info."
          ]
        }
      ],
      "source": [
        "class Carro(object):\n",
        "    def dirigir(self):\n",
        "        self.estado = \"usado\"\n",
        "c = Carro()\n",
        "c.dirigir()\n",
        "print(c.estado) # 'usado'"
      ]
    },
    {
      "cell_type": "markdown",
      "metadata": {
        "id": "T6iQXCYYPwPE"
      },
      "source": [
        "Podemos alterar as propriedades através dos métodos."
      ]
    },
    {
      "cell_type": "code",
      "execution_count": null,
      "metadata": {
        "id": "3zxpufMIPwPE"
      },
      "outputs": [
        {
          "ename": "",
          "evalue": "",
          "output_type": "error",
          "traceback": [
            "\u001b[1;31mThe kernel failed to start due to the missing module 'dartkernel'. Consider installing this module.\n",
            "\u001b[1;31mClick <a href='https://aka.ms/kernelFailuresMissingModule'>here</a> for more info."
          ]
        }
      ],
      "source": [
        "class Carro(object):\n",
        "    estado = \"novo\"\n",
        "    def dirigir(self):\n",
        "        self.estado = \"usado\"\n",
        "\n",
        "#\n",
        "# 1 exemplo\n",
        "#\n",
        "porsche = Carro()\n",
        "porsche.dirigir()\n",
        "print(porsche.estado) # usado\n",
        "\n",
        "#\n",
        "# 2 exemplo\n",
        "#\n",
        "ferrari = Carro()\n",
        "print(ferrari.estado) # novo"
      ]
    },
    {
      "cell_type": "markdown",
      "metadata": {
        "id": "lukKPv53PwPF"
      },
      "source": [
        "### 6.5) Método construtor __init_\n",
        "\n",
        "Abaixo, criamos a classe Carro com um método construtor **\\_\\_init\\_\\_**. Neste exemplo, somos obrigados a instanciar a classe passando exatamente um parâmetro, nem mais nem menos."
      ]
    },
    {
      "cell_type": "code",
      "execution_count": null,
      "metadata": {
        "id": "U8u4NogJPwPF"
      },
      "outputs": [
        {
          "ename": "",
          "evalue": "",
          "output_type": "error",
          "traceback": [
            "\u001b[1;31mThe kernel failed to start due to the missing module 'dartkernel'. Consider installing this module.\n",
            "\u001b[1;31mClick <a href='https://aka.ms/kernelFailuresMissingModule'>here</a> for more info."
          ]
        }
      ],
      "source": [
        "class Carro(object):\n",
        "    def __init__(self, estado):\n",
        "        self.estado = estado\n",
        "\n",
        "bmw = Carro('semi-novo')\n",
        "print(bmw.estado) # 'semi-novo'"
      ]
    },
    {
      "cell_type": "markdown",
      "metadata": {
        "id": "OD5EKcjXPwPF"
      },
      "source": [
        "### 6.6) Herança"
      ]
    },
    {
      "cell_type": "code",
      "execution_count": null,
      "metadata": {
        "id": "nJFmYOhuPwPF"
      },
      "outputs": [
        {
          "ename": "",
          "evalue": "",
          "output_type": "error",
          "traceback": [
            "\u001b[1;31mThe kernel failed to start due to the missing module 'dartkernel'. Consider installing this module.\n",
            "\u001b[1;31mClick <a href='https://aka.ms/kernelFailuresMissingModule'>here</a> for more info."
          ]
        }
      ],
      "source": [
        "class Veiculo(object):\n",
        "    estado = \"novo\"\n",
        "\n",
        "class Carro(Veiculo):\n",
        "    pass\n",
        "\n",
        "\n",
        "bmw = Carro()\n",
        "print(bmw.estado) # 'novo'"
      ]
    },
    {
      "cell_type": "markdown",
      "metadata": {
        "id": "hgaFfFsAPwPF",
        "jp-MarkdownHeadingCollapsed": true,
        "tags": []
      },
      "source": [
        "## 7) Bibliotecas Especiais\n",
        "<hr>"
      ]
    },
    {
      "cell_type": "markdown",
      "metadata": {
        "id": "2dVVm4J7PwPG"
      },
      "source": [
        "### 7.1) Biblioteca Datetime\n",
        "\n",
        "Essa biblioteca é muito util para utilização de datas e horas no python, veja o exemplo:"
      ]
    },
    {
      "cell_type": "code",
      "execution_count": null,
      "metadata": {
        "id": "_rT7jHWkPwPG"
      },
      "outputs": [
        {
          "ename": "",
          "evalue": "",
          "output_type": "error",
          "traceback": [
            "\u001b[1;31mThe kernel failed to start due to the missing module 'dartkernel'. Consider installing this module.\n",
            "\u001b[1;31mClick <a href='https://aka.ms/kernelFailuresMissingModule'>here</a> for more info."
          ]
        }
      ],
      "source": [
        "from datetime import datetime\n",
        "now = datetime.now()\n",
        "print(now)\n",
        "print(now.year)\n",
        "print(now.month)\n",
        "print(now.day)"
      ]
    },
    {
      "cell_type": "markdown",
      "metadata": {
        "id": "bHr7MHV1PwPG"
      },
      "source": [
        "Para imprimir a data no formato brasileiro podemos fazer:"
      ]
    },
    {
      "cell_type": "code",
      "execution_count": null,
      "metadata": {
        "id": "D-MQRBxOPwPG"
      },
      "outputs": [
        {
          "ename": "",
          "evalue": "",
          "output_type": "error",
          "traceback": [
            "\u001b[1;31mThe kernel failed to start due to the missing module 'dartkernel'. Consider installing this module.\n",
            "\u001b[1;31mClick <a href='https://aka.ms/kernelFailuresMissingModule'>here</a> for more info."
          ]
        }
      ],
      "source": [
        "print('%s/%s/%s' % (now.day, now.month, now.year))"
      ]
    },
    {
      "cell_type": "markdown",
      "metadata": {
        "id": "jLRDyBmRPwPH"
      },
      "source": [
        "Para imprimir as horas podemos usar o seguinte código:"
      ]
    },
    {
      "cell_type": "code",
      "execution_count": null,
      "metadata": {
        "id": "ep1L4PLqPwPH"
      },
      "outputs": [
        {
          "ename": "",
          "evalue": "",
          "output_type": "error",
          "traceback": [
            "\u001b[1;31mThe kernel failed to start due to the missing module 'dartkernel'. Consider installing this module.\n",
            "\u001b[1;31mClick <a href='https://aka.ms/kernelFailuresMissingModule'>here</a> for more info."
          ]
        }
      ],
      "source": [
        "print('%s:%s:%s' % (now.hour, now.minute, now.second))"
      ]
    },
    {
      "cell_type": "markdown",
      "metadata": {
        "id": "woz866ZTPwPH"
      },
      "source": [
        "### 7.2) Biblioteca Numpy\n",
        "\n",
        "#### 7.2.1) Definição de Array no Python\n",
        "\n",
        "Essa biblioteca é muito utilizada quando estamos falando de muitos dados, ela inclusive ajuda a melhorar o tempo de processamento dos seus códigos. Antes de dar início ao código é importante que você saiba o que é um array, isso nada mais é do que um conjunto de dados que pode estar disposto em diferentes dimensões.\n",
        "Temos alguns tipos de array nessas diferentes dimensões e você já deve ter ouvido falar de pelo menos um deles.\n",
        "- 1D array – Possui apenas uma dimensão. Será comumente chamado de vetor ou vector;\n",
        "- 2D array – Possui 2 dimensões. Será comumente chamado de matriz ou matrix;\n",
        "- 3D ou Mais array – Possui 3 ou mais dimensões. Será comumente chamado de tensor.\n",
        "\n",
        "Agora vamos criar um Array no Python (criar um vetor no Python)."
      ]
    },
    {
      "cell_type": "code",
      "execution_count": null,
      "metadata": {
        "id": "zJlK1p-IPwPH"
      },
      "outputs": [
        {
          "ename": "",
          "evalue": "",
          "output_type": "error",
          "traceback": [
            "\u001b[1;31mThe kernel failed to start due to the missing module 'dartkernel'. Consider installing this module.\n",
            "\u001b[1;31mClick <a href='https://aka.ms/kernelFailuresMissingModule'>here</a> for more info."
          ]
        }
      ],
      "source": [
        "import numpy as np\n",
        "\n",
        "a =  np.array([1,2,3,4,5,6])\n",
        "print(a)\n",
        "print(type(a))"
      ]
    },
    {
      "cell_type": "markdown",
      "metadata": {
        "id": "MdjARdFBPwPH"
      },
      "source": [
        "#### 7.2.2) Numpy.zeros e Numpy.ones\n",
        "\n",
        "Como é muito utilizado nesses processos conjuntos de informações iguais a 0 ou iguais 1 temos também alguns códigos específicos para essa criação."
      ]
    },
    {
      "cell_type": "code",
      "execution_count": null,
      "metadata": {
        "id": "xApoPVCOPwPI"
      },
      "outputs": [
        {
          "ename": "",
          "evalue": "",
          "output_type": "error",
          "traceback": [
            "\u001b[1;31mThe kernel failed to start due to the missing module 'dartkernel'. Consider installing this module.\n",
            "\u001b[1;31mClick <a href='https://aka.ms/kernelFailuresMissingModule'>here</a> for more info."
          ]
        }
      ],
      "source": [
        "zero_array = np.zeros(shape = (5,3,6))\n",
        "print(zero_array)"
      ]
    },
    {
      "cell_type": "markdown",
      "metadata": {
        "id": "4l6gz8FJPwPI"
      },
      "source": [
        "Nesse caso por exemplo estamos utilizando o **np.zeros** para criar um conjunto com zeros (pode-se utilizar o **np.ones** para criar um conjunto com 1). Só que agora estamos acrescentando o shape, mas o que é isso?\n",
        "Na verdade, é uma forma de informar ao Python as dimensões do nosso array. Então é como se fossem 5 matrizes de 3 linhas e 6 colunas."
      ]
    },
    {
      "cell_type": "markdown",
      "metadata": {
        "id": "8dI02WECPwPI"
      },
      "source": [
        "#### 7.2.3) Numpy.arrange\n",
        "\n",
        "Para o **np.arrange** nós conseguimos criar conjunto de dados em sequência sem que você perca tempo tendo que escrever esse conjunto.\n",
        "Então podemos tanto informar a quantidade de dados que vamos ter e será feita uma sequência de 0 até aquele valor (como no primeiro exemplo de 0 a 9, totalizando 10 elementos)."
      ]
    },
    {
      "cell_type": "code",
      "execution_count": null,
      "metadata": {
        "id": "9LXcQ7XXPwPI"
      },
      "outputs": [
        {
          "ename": "",
          "evalue": "",
          "output_type": "error",
          "traceback": [
            "\u001b[1;31mThe kernel failed to start due to the missing module 'dartkernel'. Consider installing this module.\n",
            "\u001b[1;31mClick <a href='https://aka.ms/kernelFailuresMissingModule'>here</a> for more info."
          ]
        }
      ],
      "source": [
        "print(np.arange(10))"
      ]
    },
    {
      "cell_type": "markdown",
      "metadata": {
        "id": "64AUAidlPwPI"
      },
      "source": [
        "Ja neste próximo exemplo temos a informação que queremos do número 3 ao 15 aumentando de 2 em 2."
      ]
    },
    {
      "cell_type": "code",
      "execution_count": null,
      "metadata": {
        "id": "nkecFzNFPwPI"
      },
      "outputs": [
        {
          "ename": "",
          "evalue": "",
          "output_type": "error",
          "traceback": [
            "\u001b[1;31mThe kernel failed to start due to the missing module 'dartkernel'. Consider installing this module.\n",
            "\u001b[1;31mClick <a href='https://aka.ms/kernelFailuresMissingModule'>here</a> for more info."
          ]
        }
      ],
      "source": [
        "print(np.arange(3,15,2))"
      ]
    },
    {
      "cell_type": "markdown",
      "metadata": {
        "id": "AtyxlniaPwPJ"
      },
      "source": [
        "#### 7.2.4) Numpy.linspace\n",
        "\n",
        "O **np.linspace** permite com que você crie uma sequência linear de valores espaçados igualmente entre si.\n",
        "Nesse caso queremos uma sequência de 0 a 100 com 20 elementos. Então o próprio código já vai fazer esse espaçamento igual e já vai te dar todos os elementos desse conjunto de dados.\n",
        "Nesse caso é de 5 em 5 e facilmente você percebe isso, mas em alguns casos para não ter que fazer conta, basta utilizar esse recurso!"
      ]
    },
    {
      "cell_type": "code",
      "execution_count": null,
      "metadata": {
        "id": "zp3VFh2NPwPJ"
      },
      "outputs": [
        {
          "ename": "",
          "evalue": "",
          "output_type": "error",
          "traceback": [
            "\u001b[1;31mThe kernel failed to start due to the missing module 'dartkernel'. Consider installing this module.\n",
            "\u001b[1;31mClick <a href='https://aka.ms/kernelFailuresMissingModule'>here</a> for more info."
          ]
        }
      ],
      "source": [
        "print(np.linspace(0,100, num = 20, endpoint = False, retstep = True))"
      ]
    },
    {
      "cell_type": "markdown",
      "metadata": {
        "id": "SVqZBPYpPwPJ"
      },
      "source": [
        "**OBS**: Nesse caso nós temos o **endpoint = False**, e isso significa que não vamos considerar o valor 100, ele não precisar aparecer dentro do nosso conjunto, então o espaçamento linear seria de 5 em 5, caso contrário você pode fazer um teste para ver como ficaria esse conjunto se considerar o ponto final!"
      ]
    },
    {
      "cell_type": "markdown",
      "metadata": {
        "id": "407a9-2lPwPJ"
      },
      "source": [
        "#### 7.2.5) Descobrindo o tamanhao de um array\n",
        "\n",
        "Para descobir o tamanho de um array temos o shape, size e ndim veja como se comporta cada um no exemplo abaixo:"
      ]
    },
    {
      "cell_type": "code",
      "execution_count": null,
      "metadata": {
        "id": "CVyhtWmePwPJ"
      },
      "outputs": [
        {
          "ename": "",
          "evalue": "",
          "output_type": "error",
          "traceback": [
            "\u001b[1;31mThe kernel failed to start due to the missing module 'dartkernel'. Consider installing this module.\n",
            "\u001b[1;31mClick <a href='https://aka.ms/kernelFailuresMissingModule'>here</a> for more info."
          ]
        }
      ],
      "source": [
        "zero_array = np.zeros(shape = (5,3,6))\n",
        "print(zero_array.shape)\n",
        "print(np.size(zero_array,0))\n",
        "print(zero_array.size)\n",
        "print(zero_array.ndim)"
      ]
    },
    {
      "cell_type": "markdown",
      "metadata": {
        "id": "CNCixZ_aPwPK"
      },
      "source": [
        "#### 7.2.6) Concatenando arrays\n",
        "\n",
        "As vezes é necessário juntar as informações de alguns arrays para construir um outro array dependendo do que está trabalhando, então é importante saber não só como construir eles, mas como trabalhar com eles dentro do Python."
      ]
    },
    {
      "cell_type": "code",
      "execution_count": null,
      "metadata": {
        "id": "-Idr3HAxPwPK"
      },
      "outputs": [
        {
          "ename": "",
          "evalue": "",
          "output_type": "error",
          "traceback": [
            "\u001b[1;31mThe kernel failed to start due to the missing module 'dartkernel'. Consider installing this module.\n",
            "\u001b[1;31mClick <a href='https://aka.ms/kernelFailuresMissingModule'>here</a> for more info."
          ]
        }
      ],
      "source": [
        "a = np.array([1,2,3])\n",
        "b = np.array([4,5,6])\n",
        "\n",
        "c = np.concatenate((a,b))\n",
        "d = np.concatenate((b,a))\n",
        "\n",
        "print(c)\n",
        "print(d)"
      ]
    },
    {
      "cell_type": "markdown",
      "metadata": {
        "id": "cs8S4NhTPwPK"
      },
      "source": [
        "#### 7.2.7) Consultando itens de uma array:\n",
        "\n",
        "Um ponto que é necessário assim como temos nas listas é para consultar informações dentro de um conjunto de dados. Nesse caso estamos verificando quais os valores dentro do nosso conjunto de dados que são menores do que 8."
      ]
    },
    {
      "cell_type": "code",
      "execution_count": null,
      "metadata": {
        "id": "mpNJM4daPwPK"
      },
      "outputs": [
        {
          "ename": "",
          "evalue": "",
          "output_type": "error",
          "traceback": [
            "\u001b[1;31mThe kernel failed to start due to the missing module 'dartkernel'. Consider installing this module.\n",
            "\u001b[1;31mClick <a href='https://aka.ms/kernelFailuresMissingModule'>here</a> for more info."
          ]
        }
      ],
      "source": [
        "a = np.array([[1,2,3,4],[5,6,7,8],[9,10,11,12]])\n",
        "print(a)\n",
        "print('----------------------------')\n",
        "print(a[a<8])"
      ]
    },
    {
      "cell_type": "markdown",
      "metadata": {
        "id": "2vdC1GomPwPK"
      },
      "source": [
        "#### 7.2.8) Operações com array\n",
        "\n",
        "Como qualquer tratamento ou análise de dados é necessário fazer algumas operações e com arrays não seria diferente, então temos algumas das principais operações que podemos fazer com os arrays."
      ]
    },
    {
      "cell_type": "code",
      "execution_count": null,
      "metadata": {
        "id": "wrEQX0dCPwPL"
      },
      "outputs": [
        {
          "ename": "",
          "evalue": "",
          "output_type": "error",
          "traceback": [
            "\u001b[1;31mThe kernel failed to start due to the missing module 'dartkernel'. Consider installing this module.\n",
            "\u001b[1;31mClick <a href='https://aka.ms/kernelFailuresMissingModule'>here</a> for more info."
          ]
        }
      ],
      "source": [
        "a = np.array([1,2,3])\n",
        "\n",
        "print(a.max())\n",
        "print(a.min())\n",
        "print(a.mean())\n",
        "print(a.sum())"
      ]
    },
    {
      "cell_type": "markdown",
      "metadata": {
        "id": "eB5lG8rbPwPL"
      },
      "source": [
        "#### 7.2.8) Operações com numeros aleatórios\n",
        "\n",
        "Outro ponto bem interessante dentro da análise de dados é que algumas vezes precisamos de valores aleatórios, seja para testar algum código ou até mesmo testar uma ferramenta.\n",
        "Então ao invés de criar uma sequência ou algo do tipo que seria muito “trivial” para o código ou ferramenta utilizar, podemos criar arrays com valores aleatórios.\n",
        "Só que para esse caso temos que importar a biblioteca default_rng e utilizar o rng.integers que vai gerar números inteiros aleatórios.\n",
        "Se você nunca utilizou números aleatórios assim não se preocupe que é algo bastante comum em análise de dados."
      ]
    },
    {
      "cell_type": "code",
      "execution_count": null,
      "metadata": {
        "id": "0_aavTz_PwPL"
      },
      "outputs": [
        {
          "ename": "",
          "evalue": "",
          "output_type": "error",
          "traceback": [
            "\u001b[1;31mThe kernel failed to start due to the missing module 'dartkernel'. Consider installing this module.\n",
            "\u001b[1;31mClick <a href='https://aka.ms/kernelFailuresMissingModule'>here</a> for more info."
          ]
        }
      ],
      "source": [
        "from numpy.random import default_rng as dng\n",
        "\n",
        "print(dng().integers(5,10,size=(2,4)))"
      ]
    },
    {
      "cell_type": "markdown",
      "metadata": {
        "id": "mAaExElCPwPM"
      },
      "source": [
        "### 7.3) Biblioteca Pandas"
      ]
    },
    {
      "cell_type": "markdown",
      "metadata": {
        "id": "5WwenBV-PwPM"
      },
      "source": [
        "\n",
        "\n",
        "```\n",
        "# Isto está formatado como código\n",
        "```\n",
        "\n",
        "### 7.4) Biblioteca Matplotlib"
      ]
    }
  ],
  "metadata": {
    "colab": {
      "provenance": []
    },
    "kernelspec": {
      "display_name": "Python 3",
      "language": "python",
      "name": "python3"
    },
    "language_info": {
      "codemirror_mode": {
        "name": "ipython",
        "version": 3
      },
      "file_extension": ".py",
      "mimetype": "text/x-python",
      "name": "python",
      "nbconvert_exporter": "python",
      "pygments_lexer": "ipython3",
      "version": "3.11.1"
    }
  },
  "nbformat": 4,
  "nbformat_minor": 0
}
